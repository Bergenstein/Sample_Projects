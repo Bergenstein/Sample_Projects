{
  "nbformat": 4,
  "nbformat_minor": 0,
  "metadata": {
    "colab": {
      "provenance": []
    },
    "kernelspec": {
      "name": "python3",
      "display_name": "Python 3"
    },
    "language_info": {
      "name": "python"
    }
  },
  "cells": [
    {
      "cell_type": "code",
      "execution_count": null,
      "metadata": {
        "id": "vusMov9V9prE"
      },
      "outputs": [],
      "source": [
        "from IPython.display import display, Math\n",
        "from scipy.optimize import brute, fmin\n",
        "import numpy as np\n",
        "import pandas as pd\n",
        "from scipy.integrate import quad\n",
        "from typing import Callable, Union, Self\n",
        "from numpy.typing import NDArray\n",
        "\n",
        "\n",
        "def render_latex(expression):\n",
        "    display(Math(expression))"
      ]
    },
    {
      "cell_type": "markdown",
      "source": [
        "1. δ predicts an option's change relative to a change in underlying movement. Call Options have positive deltas, since they move in the same direction as stock price. This is actually the mysterious N(d1). Remember N(d2)? Put Options have negative deltas as they move in opposite direction as S\n",
        "2. What does a delta of +/- 1 mean?"
      ],
      "metadata": {
        "id": "zHdQ_PicA22n"
      }
    },
    {
      "cell_type": "markdown",
      "source": [
        "1. γ. Do you think δ stays constant? What would happen if it did?\n",
        "2. γ, therefore, represents the change in deltas. In other words, how an option's δ and NOT price changes with respect to the underlying dynamics.\n",
        "3. Think of gamma as?? (clue: what happens if delta changes or doesn't change?)"
      ],
      "metadata": {
        "id": "UnmZ8Z8gB9mg"
      }
    },
    {
      "cell_type": "markdown",
      "source": [
        "Gamma reflects changes in option's delta. So, essentially, it captures the probability of option expiring in the money as stock price changes. Think of what delta represents again and what a higher delta means."
      ],
      "metadata": {
        "id": "9BRU2Lf3DuaY"
      }
    },
    {
      "cell_type": "markdown",
      "source": [
        "θ (think of time). represents the change in options price (decrease actually. Why?) with respect to time, assuming no change in underlying or volatility).\n",
        "\n",
        "𝓥 represents the change in option price with respect to change in implied volatility.\n",
        "\n",
        "ρ represents the change in the option value with respect to change in interest rate."
      ],
      "metadata": {
        "id": "XSe3lJ6VEn90"
      }
    },
    {
      "cell_type": "markdown",
      "source": [
        "# **In basic math:**\n",
        "\n",
        "**Call and Put**:\n",
        "\n",
        "1. delta (Call) = dC /dS = N(d1)\n",
        "2. delta(Put) = dP/dS = N(d1) - 1  \n",
        "3. delta(Call) = d^2V/dS^2 = N'(d1)/S*(sigma)*(sqrt(dt))\n",
        "4. delta(Put) = d^2V/dS^2 = N'(d1)/{S*(sigma)*(sqrt(dt))}\n",
        "5. Vega = d^2V/d sigma^2 = S N'(d1) sqrt(dt)\n",
        "6. Roh(Call) = dC/dr\n",
        "7. Roh(Put) = dP/dr"
      ],
      "metadata": {
        "id": "XXUx209aFoUi"
      }
    },
    {
      "cell_type": "code",
      "source": [
        "greek_definition = (\n",
        "    r\"\\textbf{Option Greeks} \\\\[1ex] \"\n",
        "    r\"\\text{Option Greeks measure an option's price sensitivity to various factors (Black-Scholes).}\"\n",
        ")\n",
        "greek_formulas = (\n",
        "    r\"\\textbf{Option Greeks Formulas} \\\\[1ex] \"\n",
        "    r\"\\text{Call: } \\Delta_C = N(d_1), \\quad \"\n",
        "    r\"\\Gamma_C = \\frac{N'(d_1)}{S \\sigma \\sqrt{T}}, \\quad \"\n",
        "    r\"\\mathcal{V}_C = S N'(d_1) \\sqrt{T}, \\quad \"\n",
        "    r\"\\Theta_C = -\\frac{S N'(d_1) \\sigma}{2 \\sqrt{T}} - r K e^{-r T} N(d_2), \\quad \"\n",
        "    r\"\\rho_C = K T e^{-r T} N(d_2) \\\\[1ex] \"\n",
        "    r\"\\text{Put: } \\Delta_P = N(d_1) - 1, \\quad \"\n",
        "    r\"\\Gamma_P = \\frac{N'(d_1)}{S \\sigma \\sqrt{T}}, \\quad \"\n",
        "    r\"\\mathcal{V}_P = S N'(d_1) \\sqrt{T}, \\quad \"\n",
        "    r\"\\Theta_P = -\\frac{S N'(d_1) \\sigma}{2 \\sqrt{T}} + r K e^{-r T} N(-d_2), \\quad \"\n",
        "    r\"\\rho_P = -K T e^{-r T} N(-d_2) \\\\[1ex] \"\n",
        "    r\"\\text{where } d_1 = \\frac{\\ln(S/K) + (r + \\frac{\\sigma^2}{2})T}{\\sigma \\sqrt{T}}, \\quad d_2 = d_1 - \\sigma \\sqrt{T}\"\n",
        ")\n",
        "\n",
        "render_latex(greek_definition)\n",
        "render_latex(greek_formulas)"
      ],
      "metadata": {
        "colab": {
          "base_uri": "https://localhost:8080/",
          "height": 254
        },
        "id": "KJicZN5hHH3h",
        "outputId": "35e10fa8-bc07-4232-8b14-ab528abb18a9"
      },
      "execution_count": null,
      "outputs": [
        {
          "output_type": "display_data",
          "data": {
            "text/plain": [
              "<IPython.core.display.Math object>"
            ],
            "text/latex": "$\\displaystyle \\textbf{Option Greeks} \\\\[1ex] \\text{Option Greeks measure an option's price sensitivity to various factors (Black-Scholes).}$"
          },
          "metadata": {}
        },
        {
          "output_type": "display_data",
          "data": {
            "text/plain": [
              "<IPython.core.display.Math object>"
            ],
            "text/latex": "$\\displaystyle \\textbf{Option Greeks Formulas} \\\\[1ex] \\text{Call: } \\Delta_C = N(d_1), \\quad \\Gamma_C = \\frac{N'(d_1)}{S \\sigma \\sqrt{T}}, \\quad \\mathcal{V}_C = S N'(d_1) \\sqrt{T}, \\quad \\Theta_C = -\\frac{S N'(d_1) \\sigma}{2 \\sqrt{T}} - r K e^{-r T} N(d_2), \\quad \\rho_C = K T e^{-r T} N(d_2) \\\\[1ex] \\text{Put: } \\Delta_P = N(d_1) - 1, \\quad \\Gamma_P = \\frac{N'(d_1)}{S \\sigma \\sqrt{T}}, \\quad \\mathcal{V}_P = S N'(d_1) \\sqrt{T}, \\quad \\Theta_P = -\\frac{S N'(d_1) \\sigma}{2 \\sqrt{T}} + r K e^{-r T} N(-d_2), \\quad \\rho_P = -K T e^{-r T} N(-d_2) \\\\[1ex] \\text{where } d_1 = \\frac{\\ln(S/K) + (r + \\frac{\\sigma^2}{2})T}{\\sigma \\sqrt{T}}, \\quad d_2 = d_1 - \\sigma \\sqrt{T}$"
          },
          "metadata": {}
        }
      ]
    },
    {
      "cell_type": "markdown",
      "source": [
        "Derivation of Heston PDE using replicating portfolio:"
      ],
      "metadata": {
        "id": "7NneCC6X9rk5"
      }
    },
    {
      "cell_type": "code",
      "source": [
        "\n",
        "render_latex(r\"\"\"\n",
        "\\textbf{Heston PDE Derivation with Replicating Portfolio} \\\\[20pt]\n",
        "\n",
        "\\text{Assets:} \\\\[10pt]\n",
        "1. \\, S_t: \\text{Stock price}, \\\\\n",
        "\\quad dS_t = r S_t dt + \\sqrt{v_t} S_t dW_t^{S,\\mathbb{Q}} \\\\[15pt]\n",
        "2. \\, U(S_t, v_t, t): \\text{Second option price} \\\\[15pt]\n",
        "3. \\, B_t = e^{rt}: \\text{Risk-free asset}, \\\\\n",
        "\\quad dB_t = r B_t dt \\\\[20pt]\n",
        "\n",
        "\\text{Variance dynamics:} \\\\\n",
        "\\quad dv_t = \\kappa (\\theta - v_t) dt + \\sigma \\sqrt{v_t} dW_t^{v,\\mathbb{Q}}, \\\\\n",
        "\\quad dW_t^{S,\\mathbb{Q}} dW_t^{v,\\mathbb{Q}} = \\rho dt \\\\[20pt]\n",
        "\n",
        "\\text{Option to price:} \\\\\n",
        "\\quad V(S_t, v_t, t) \\\\[20pt]\n",
        "\n",
        "\\text{Portfolio:} \\\\\n",
        "\\quad \\Pi_t = \\Delta_t S_t + \\Gamma_t U_t + \\Psi_t B_t = V(S_t, v_t, t) \\\\[20pt]\n",
        "\n",
        "\\text{Apply Itô’s lemma to } V: \\\\\n",
        "\\quad dV = \\left( \\frac{\\partial V}{\\partial t} + r S_t \\frac{\\partial V}{\\partial S} + \\kappa (\\theta - v_t) \\frac{\\partial V}{\\partial v} + \\frac{1}{2} v_t S_t^2 \\frac{\\partial^2 V}{\\partial S^2} + \\frac{1}{2} \\sigma^2 v_t \\frac{\\partial^2 V}{\\partial v^2} + \\rho \\sigma v_t S_t \\frac{\\partial^2 V}{\\partial S \\partial v} \\right) dt \\\\\n",
        "\\quad + \\sqrt{v_t} S_t \\frac{\\partial V}{\\partial S} dW_t^{S,\\mathbb{Q}} + \\sigma \\sqrt{v_t} \\frac{\\partial V}{\\partial v} dW_t^{v,\\mathbb{Q}} \\\\[20pt]\n",
        "\n",
        "\\text{Similarly for } U: \\\\\n",
        "\\quad dU = \\left( \\frac{\\partial U}{\\partial t} + r S_t \\frac{\\partial U}{\\partial S} + \\kappa (\\theta - v_t) \\frac{\\partial U}{\\partial v} + \\frac{1}{2} v_t S_t^2 \\frac{\\partial^2 U}{\\partial S^2} + \\frac{1}{2} \\sigma^2 v_t \\frac{\\partial^2 U}{\\partial v^2} + \\rho \\sigma v_t S_t \\frac{\\partial^2 U}{\\partial S \\partial v} \\right) dt \\\\\n",
        "\\quad + \\sqrt{v_t} S_t \\frac{\\partial U}{\\partial S} dW_t^{S,\\mathbb{Q}} + \\sigma \\sqrt{v_t} \\frac{\\partial U}{\\partial v} dW_t^{v,\\mathbb{Q}} \\\\[20pt]\n",
        "\n",
        "\\text{Portfolio differential:} \\\\\n",
        "\\quad d\\Pi_t = \\Delta_t dS_t + \\Gamma_t dU_t + \\Psi_t r B_t dt \\\\[20pt]\n",
        "\n",
        "\\text{Risk-neutral condition:} \\\\\n",
        "\\quad d\\Pi_t = r \\Pi_t dt \\\\[20pt]\n",
        "\n",
        "\\text{Hedge stochastic terms:} \\\\\n",
        "\\quad 1. \\, \\Delta_t + \\Gamma_t \\frac{\\partial U}{\\partial S} = \\frac{\\partial V}{\\partial S} \\\\[10pt]\n",
        "\\quad 2. \\, \\Gamma_t \\frac{\\partial U}{\\partial v} = \\frac{\\partial V}{\\partial v} \\\\[20pt]\n",
        "\n",
        "\\text{Solve:} \\\\\n",
        "\\quad \\Gamma_t = \\frac{\\frac{\\partial V}{\\partial v}}{\\frac{\\partial U}{\\partial v}}, \\quad \\Delta_t = \\frac{\\partial V}{\\partial S} - \\Gamma_t \\frac{\\partial U}{\\partial S} \\\\[20pt]\n",
        "\n",
        "\\text{Equate drifts and simplify:} \\\\\n",
        "\\quad \\frac{\\partial V}{\\partial t} + r S_t \\frac{\\partial V}{\\partial S} + \\kappa (\\theta - v_t) \\frac{\\partial V}{\\partial v} + \\frac{1}{2} v_t S_t^2 \\frac{\\partial^2 V}{\\partial S^2} + \\frac{1}{2} \\sigma^2 v_t \\frac{\\partial^2 V}{\\partial v^2} + \\rho \\sigma v_t S_t \\frac{\\partial^2 V}{\\partial S \\partial v} - r V = 0\n",
        "\"\"\")"
      ],
      "metadata": {
        "colab": {
          "base_uri": "https://localhost:8080/",
          "height": 1000
        },
        "id": "Kdtfwf0W9wQf",
        "outputId": "5d1b103c-18a2-4235-806b-e7e0a9cb38da"
      },
      "execution_count": null,
      "outputs": [
        {
          "output_type": "display_data",
          "data": {
            "text/plain": [
              "<IPython.core.display.Math object>"
            ],
            "text/latex": "$\\displaystyle \n\\textbf{Heston PDE Derivation with Replicating Portfolio} \\\\[20pt]\n\n\\text{Assets:} \\\\[10pt]\n1. \\, S_t: \\text{Stock price}, \\\\ \n\\quad dS_t = r S_t dt + \\sqrt{v_t} S_t dW_t^{S,\\mathbb{Q}} \\\\[15pt]\n2. \\, U(S_t, v_t, t): \\text{Second option price} \\\\[15pt]\n3. \\, B_t = e^{rt}: \\text{Risk-free asset}, \\\\ \n\\quad dB_t = r B_t dt \\\\[20pt]\n\n\\text{Variance dynamics:} \\\\ \n\\quad dv_t = \\kappa (\\theta - v_t) dt + \\sigma \\sqrt{v_t} dW_t^{v,\\mathbb{Q}}, \\\\ \n\\quad dW_t^{S,\\mathbb{Q}} dW_t^{v,\\mathbb{Q}} = \\rho dt \\\\[20pt]\n\n\\text{Option to price:} \\\\ \n\\quad V(S_t, v_t, t) \\\\[20pt]\n\n\\text{Portfolio:} \\\\ \n\\quad \\Pi_t = \\Delta_t S_t + \\Gamma_t U_t + \\Psi_t B_t = V(S_t, v_t, t) \\\\[20pt]\n\n\\text{Apply Itô’s lemma to } V: \\\\ \n\\quad dV = \\left( \\frac{\\partial V}{\\partial t} + r S_t \\frac{\\partial V}{\\partial S} + \\kappa (\\theta - v_t) \\frac{\\partial V}{\\partial v} + \\frac{1}{2} v_t S_t^2 \\frac{\\partial^2 V}{\\partial S^2} + \\frac{1}{2} \\sigma^2 v_t \\frac{\\partial^2 V}{\\partial v^2} + \\rho \\sigma v_t S_t \\frac{\\partial^2 V}{\\partial S \\partial v} \\right) dt \\\\ \n\\quad + \\sqrt{v_t} S_t \\frac{\\partial V}{\\partial S} dW_t^{S,\\mathbb{Q}} + \\sigma \\sqrt{v_t} \\frac{\\partial V}{\\partial v} dW_t^{v,\\mathbb{Q}} \\\\[20pt]\n\n\\text{Similarly for } U: \\\\ \n\\quad dU = \\left( \\frac{\\partial U}{\\partial t} + r S_t \\frac{\\partial U}{\\partial S} + \\kappa (\\theta - v_t) \\frac{\\partial U}{\\partial v} + \\frac{1}{2} v_t S_t^2 \\frac{\\partial^2 U}{\\partial S^2} + \\frac{1}{2} \\sigma^2 v_t \\frac{\\partial^2 U}{\\partial v^2} + \\rho \\sigma v_t S_t \\frac{\\partial^2 U}{\\partial S \\partial v} \\right) dt \\\\ \n\\quad + \\sqrt{v_t} S_t \\frac{\\partial U}{\\partial S} dW_t^{S,\\mathbb{Q}} + \\sigma \\sqrt{v_t} \\frac{\\partial U}{\\partial v} dW_t^{v,\\mathbb{Q}} \\\\[20pt]\n\n\\text{Portfolio differential:} \\\\ \n\\quad d\\Pi_t = \\Delta_t dS_t + \\Gamma_t dU_t + \\Psi_t r B_t dt \\\\[20pt]\n\n\\text{Risk-neutral condition:} \\\\ \n\\quad d\\Pi_t = r \\Pi_t dt \\\\[20pt]\n\n\\text{Hedge stochastic terms:} \\\\ \n\\quad 1. \\, \\Delta_t + \\Gamma_t \\frac{\\partial U}{\\partial S} = \\frac{\\partial V}{\\partial S} \\\\[10pt]\n\\quad 2. \\, \\Gamma_t \\frac{\\partial U}{\\partial v} = \\frac{\\partial V}{\\partial v} \\\\[20pt]\n\n\\text{Solve:} \\\\ \n\\quad \\Gamma_t = \\frac{\\frac{\\partial V}{\\partial v}}{\\frac{\\partial U}{\\partial v}}, \\quad \\Delta_t = \\frac{\\partial V}{\\partial S} - \\Gamma_t \\frac{\\partial U}{\\partial S} \\\\[20pt]\n\n\\text{Equate drifts and simplify:} \\\\ \n\\quad \\frac{\\partial V}{\\partial t} + r S_t \\frac{\\partial V}{\\partial S} + \\kappa (\\theta - v_t) \\frac{\\partial V}{\\partial v} + \\frac{1}{2} v_t S_t^2 \\frac{\\partial^2 V}{\\partial S^2} + \\frac{1}{2} \\sigma^2 v_t \\frac{\\partial^2 V}{\\partial v^2} + \\rho \\sigma v_t S_t \\frac{\\partial^2 V}{\\partial S \\partial v} - r V = 0\n$"
          },
          "metadata": {}
        }
      ]
    },
    {
      "cell_type": "markdown",
      "source": [
        "FFT computes two sums simultanously, resulting in O(nlong(n)) time complexity.\n",
        "\n",
        "Fourier Pricing is an approximation as the closed form analytical solutions for Heston and Merton are unattainable."
      ],
      "metadata": {
        "id": "iVwaBtZoiOoy"
      }
    },
    {
      "cell_type": "code",
      "source": [
        "cf_expression = (\n",
        "    r\"\\textbf{Characteristic Function (CF)} \\\\[1ex] \"\n",
        "    r\"\\text{Let random variable } X \\text{ have Probability Density Function } PDF(x). \\text{ Then, the characteristic function (CF), } \\hat{p}(u), \\text{ is:} \\\\[1ex] \"\n",
        "    r\"\\hat{p}(u) = \\int_{-\\infty}^{\\infty} e^{i u x} p(x) \\, dx = \\mathbb{E}\\left[e^{i u X}\\right]\"\n",
        ")\n",
        "\n",
        "render_latex(cf_expression)"
      ],
      "metadata": {
        "colab": {
          "base_uri": "https://localhost:8080/",
          "height": 114
        },
        "id": "eoqnTXDIjXmC",
        "outputId": "c173bd16-0a04-468a-c278-cf38e481008b"
      },
      "execution_count": null,
      "outputs": [
        {
          "output_type": "display_data",
          "data": {
            "text/plain": [
              "<IPython.core.display.Math object>"
            ],
            "text/latex": "$\\displaystyle \\textbf{Characteristic Function (CF)} \\\\[1ex] \\text{Let random variable } X \\text{ have Probability Density Function } PDF(x). \\text{ Then, the characteristic function (CF), } \\hat{p}(u), \\text{ is:} \\\\[1ex] \\hat{p}(u) = \\int_{-\\infty}^{\\infty} e^{i u x} p(x) \\, dx = \\mathbb{E}\\left[e^{i u X}\\right]$"
          },
          "metadata": {}
        }
      ]
    },
    {
      "cell_type": "code",
      "source": [
        "cf_definition = (\n",
        "    r\"\\begin{aligned} \"\n",
        "    r\"&\\textbf{Characteristic Function (CF)} \\\\[2ex] \"\n",
        "    r\"&\\text{A characteristic function (CF) is a fundamental concept in probability theory and statistics} \\\\ \"\n",
        "    r\"&\\text{that describes the distribution of a random variable } X \\text{ in the frequency domain.} \\\\[2ex] \"\n",
        "    r\"&\\text{It is defined as the expected value of the complex exponential } e^{i u X}, \\\\ \"\n",
        "    r\"&\\text{where } u \\text{ is a real number (often a frequency or transform variable), and } i = \\sqrt{-1} \\\\ \"\n",
        "    r\"&\\text{is the imaginary unit.} \\\\[2ex] \"\n",
        "    r\"&\\text{Mathematically:} \\\\[1ex] \"\n",
        "    r\"&\\hat{p}(u) = \\mathbb{E}\\left[e^{i u X}\\right] = \\int_{-\\infty}^{\\infty} e^{i u x} p(x) \\, dx \"\n",
        "    r\"\\end{aligned}\"\n",
        ")\n",
        "\n",
        "cf_components = (\n",
        "    r\"\\begin{aligned} \"\n",
        "    r\"&\\textbf{Components:} \\\\[1ex] \"\n",
        "    r\"&\\begin{array}{ll} \"\n",
        "    r\"p(x) & \\text{: The probability density function (PDF) of } X \\\\[1ex] \"\n",
        "    r\"e^{i u x} & \\text{: A complex exponential that oscillates with frequency } u \\\\ \"\n",
        "    r\"& \\quad \\text{as } x \\text{ varies} \\\\[1ex] \"\n",
        "    r\"\\mathbb{E}[\\cdot] & \\text{: The expectation operator, which for a continuous random variable} \\\\ \"\n",
        "    r\"& \\quad \\text{is the integral over the PDF} \"\n",
        "    r\"\\end{array} \"\n",
        "    r\"\\end{aligned}\"\n",
        ")\n",
        "\n",
        "cf_properties = (\n",
        "    r\"\\begin{aligned} \"\n",
        "    r\"&\\textbf{Key Properties of CFs} \\\\[2ex] \"\n",
        "    r\"&1. \\textbf{Uniqueness:} \\text{ The CF uniquely determines the distribution of } X. \\\\ \"\n",
        "    r\"&\\quad \\text{If two random variables have the same CF, they have the same distribution (inversion theorem).} \\\\[1ex] \"\n",
        "    r\"&2. \\textbf{Existence:} \\text{ The CF always exists because } |e^{iu x}| = 1, \\\\ \"\n",
        "    r\"&\\quad \\text{making the expectation well-defined for any } u. \\\\[1ex] \"\n",
        "    r\"&3. \\textbf{Moments:} \\text{ Derivatives of the CF at } u=0 \\text{ yield the moments of } X: \\\\ \"\n",
        "    r\"&\\quad \\hat{p}'(0)=i\\mathbb{E}[X], \\quad \\hat{p}''(0)=-\\mathbb{E}[X^2]. \\\\[1ex] \"\n",
        "    r\"&4. \\textbf{Convolution:} \\text{ The CF of the sum of independent random variables is} \\\\ \"\n",
        "    r\"&\\quad \\text{the product of their individual CFs, useful in option pricing models like Bates.} \"\n",
        "    r\"\\end{aligned}\"\n",
        ")\n",
        "\n",
        "cf_interpretation = (\n",
        "    r\"\\begin{aligned} \"\n",
        "    r\"&\\textbf{Intuitive Interpretation} \\\\[2ex] \"\n",
        "    r\"&\\text{Think of the CF as a ``simply fourier transformation'' of the random variable's distribution.} \\\\[1ex] \"\n",
        "    r\"&\\text{Instead of working directly with the PDF } p(x), \\text{ which might be complicated or unavailable,} \\\\ \"\n",
        "    r\"&\\text{the CF transforms it into a function of } u \\text{ that encodes all distributional information} \\\\ \"\n",
        "    r\"&\\text{in a compact, oscillatory form.} \"\n",
        "    r\"\\end{aligned}\"\n",
        ")\n",
        "\n",
        "render_latex(cf_definition)\n",
        "render_latex(cf_components)\n",
        "render_latex(cf_properties)\n",
        "render_latex(cf_interpretation)\n"
      ],
      "metadata": {
        "colab": {
          "base_uri": "https://localhost:8080/",
          "height": 863
        },
        "id": "tQeWti6qnymN",
        "outputId": "2da9b094-7382-4c4a-c879-7fcba6af90d3"
      },
      "execution_count": null,
      "outputs": [
        {
          "output_type": "display_data",
          "data": {
            "text/plain": [
              "<IPython.core.display.Math object>"
            ],
            "text/latex": "$\\displaystyle \\begin{aligned} &\\textbf{Characteristic Function (CF)} \\\\[2ex] &\\text{A characteristic function (CF) is a fundamental concept in probability theory and statistics} \\\\ &\\text{that describes the distribution of a random variable } X \\text{ in the frequency domain.} \\\\[2ex] &\\text{It is defined as the expected value of the complex exponential } e^{i u X}, \\\\ &\\text{where } u \\text{ is a real number (often a frequency or transform variable), and } i = \\sqrt{-1} \\\\ &\\text{is the imaginary unit.} \\\\[2ex] &\\text{Mathematically:} \\\\[1ex] &\\hat{p}(u) = \\mathbb{E}\\left[e^{i u X}\\right] = \\int_{-\\infty}^{\\infty} e^{i u x} p(x) \\, dx \\end{aligned}$"
          },
          "metadata": {}
        },
        {
          "output_type": "display_data",
          "data": {
            "text/plain": [
              "<IPython.core.display.Math object>"
            ],
            "text/latex": "$\\displaystyle \\begin{aligned} &\\textbf{Components:} \\\\[1ex] &\\begin{array}{ll} p(x) & \\text{: The probability density function (PDF) of } X \\\\[1ex] e^{i u x} & \\text{: A complex exponential that oscillates with frequency } u \\\\ & \\quad \\text{as } x \\text{ varies} \\\\[1ex] \\mathbb{E}[\\cdot] & \\text{: The expectation operator, which for a continuous random variable} \\\\ & \\quad \\text{is the integral over the PDF} \\end{array} \\end{aligned}$"
          },
          "metadata": {}
        },
        {
          "output_type": "display_data",
          "data": {
            "text/plain": [
              "<IPython.core.display.Math object>"
            ],
            "text/latex": "$\\displaystyle \\begin{aligned} &\\textbf{Key Properties of CFs} \\\\[2ex] &1. \\textbf{Uniqueness:} \\text{ The CF uniquely determines the distribution of } X. \\\\ &\\quad \\text{If two random variables have the same CF, they have the same distribution (inversion theorem).} \\\\[1ex] &2. \\textbf{Existence:} \\text{ The CF always exists because } |e^{iu x}| = 1, \\\\ &\\quad \\text{making the expectation well-defined for any } u. \\\\[1ex] &3. \\textbf{Moments:} \\text{ Derivatives of the CF at } u=0 \\text{ yield the moments of } X: \\\\ &\\quad \\hat{p}'(0)=i\\mathbb{E}[X], \\quad \\hat{p}''(0)=-\\mathbb{E}[X^2]. \\\\[1ex] &4. \\textbf{Convolution:} \\text{ The CF of the sum of independent random variables is} \\\\ &\\quad \\text{the product of their individual CFs, useful in option pricing models like Bates.} \\end{aligned}$"
          },
          "metadata": {}
        },
        {
          "output_type": "display_data",
          "data": {
            "text/plain": [
              "<IPython.core.display.Math object>"
            ],
            "text/latex": "$\\displaystyle \\begin{aligned} &\\textbf{Intuitive Interpretation} \\\\[2ex] &\\text{Think of the CF as a ``simply fourier transformation'' of the random variable's distribution.} \\\\[1ex] &\\text{Instead of working directly with the PDF } p(x), \\text{ which might be complicated or unavailable,} \\\\ &\\text{the CF transforms it into a function of } u \\text{ that encodes all distributional information} \\\\ &\\text{in a compact, oscillatory form.} \\end{aligned}$"
          },
          "metadata": {}
        }
      ]
    },
    {
      "cell_type": "markdown",
      "source": [],
      "metadata": {
        "id": "Nw7qd29ljGJu"
      }
    },
    {
      "cell_type": "markdown",
      "source": [
        "solving Heston PDE:"
      ],
      "metadata": {
        "id": "EyFEAukR9w5q"
      }
    },
    {
      "cell_type": "code",
      "source": [
        "\n",
        "render_latex(r\"\"\"\n",
        "\\textbf{Heston Pricing via Lewis (2001)} \\\\[30pt]\n",
        "\n",
        "\\text{Baseline Pricing Equation (Lewis, 2001):} \\\\[15pt]\n",
        "\\quad C_0 = S_0 - \\frac{\\sqrt{S_0 K} e^{-r T}}{\\pi} \\int_0^\\infty \\text{Re} \\left[ \\frac{e^{i z k} \\phi(z - i/2)}{z^2 + \\frac{1}{4}} \\right] dz, \\quad k = \\log \\left( \\frac{S_0}{K} \\right) \\\\[30pt]\n",
        "\n",
        "\\text{Components Needed:} \\\\[15pt]\n",
        "\\quad 1. \\, \\text{Characteristic function } \\phi(z - i/2) \\text{ for the Heston model.} \\\\[10pt]\n",
        "\\quad 2. \\, \\text{Numerical method to compute the integral (e.g., quadrature).} \\\\[30pt]\n",
        "\n",
        "\\text{Objective:} \\\\[15pt]\n",
        "\\quad \\text{Derive } \\phi_H(u, T) \\text{ for the Heston model and apply it in the Lewis formula.} \\\\[30pt]\n",
        "\n",
        "\\text{Heston Model Dynamics:} \\\\[15pt]\n",
        "\\quad dS_t = r S_t \\, dt + \\sqrt{\\nu_t} S_t \\, dW_t^S \\\\[10pt]\n",
        "\\quad d\\nu_t = \\kappa_\\nu (\\theta_\\nu - \\nu_t) \\, dt + \\sigma_\\nu \\sqrt{\\nu_t} \\, dW_t^\\nu \\\\[10pt]\n",
        "\\quad dW_t^S dW_t^\\nu = \\rho \\, dt \\\\[10pt]\n",
        "\\quad \\text{Where } \\nu_0 \\text{ is the initial variance, and } s_T = \\log S_T. \\\\[30pt]\n",
        "\n",
        "\\text{Characteristic Function Derivation:} \\\\[15pt]\n",
        "\\quad \\phi_H(u, T) = \\mathbb{E}^\\mathbb{Q} [ e^{i u s_T} | s_0, \\nu_0 ], \\quad s_0 = \\log S_0 \\\\[20pt]\n",
        "\\quad \\text{Assume a form:} \\\\[15pt]\n",
        "\\quad \\phi_H(u, T) = e^{H_1(u, T) + H_2(u, T) \\nu_0} \\\\[30pt]\n",
        "\n",
        "\\text{Log Price Dynamics:} \\\\[15pt]\n",
        "\\quad \\text{Apply It\\^o’s lemma to } s_t = \\log S_t: \\\\[10pt]\n",
        "\\quad ds_t = \\left( r - \\frac{1}{2} \\nu_t \\right) dt + \\sqrt{\\nu_t} dW_t^S \\\\[15pt]\n",
        "\\quad s_T = s_0 + \\int_0^T \\left( r - \\frac{1}{2} \\nu_t \\right) dt + \\int_0^T \\sqrt{\\nu_t} dW_t^S \\\\[30pt]\n",
        "\n",
        "\\text{Kolmogorov Backward Equation:} \\\\[15pt]\n",
        "\\quad \\frac{\\partial \\phi}{\\partial t} + \\left( r - \\frac{1}{2} \\nu_t \\right) \\frac{\\partial \\phi}{\\partial s} + \\kappa_\\nu (\\theta_\\nu - \\nu_t) \\frac{\\partial \\phi}{\\partial \\nu} + \\frac{1}{2} \\nu_t \\frac{\\partial^2 \\phi}{\\partial s^2} + \\frac{1}{2} \\sigma_\\nu^2 \\nu_t \\frac{\\partial^2 \\phi}{\\partial \\nu^2} + \\rho \\sigma_\\nu \\nu_t \\frac{\\partial^2 \\phi}{\\partial s \\partial \\nu} = 0 \\\\[15pt]\n",
        "\\quad \\text{Boundary condition:} \\\\[10pt]\n",
        "\\quad \\phi(u, T, s_T, \\nu_T) = e^{i u s_T} \\\\[30pt]\n",
        "\n",
        "\\text{Substitute Assumed Form:} \\\\[15pt]\n",
        "\\quad \\frac{\\partial \\phi}{\\partial t} = \\left( \\frac{\\partial H_1}{\\partial t} + \\frac{\\partial H_2}{\\partial t} \\nu_t \\right) \\phi \\\\[10pt]\n",
        "\\quad \\frac{\\partial \\phi}{\\partial s} = i u \\phi \\\\[10pt]\n",
        "\\quad \\frac{\\partial \\phi}{\\partial \\nu} = H_2 \\phi \\\\[10pt]\n",
        "\\quad \\frac{\\partial^2 \\phi}{\\partial s^2} = -u^2 \\phi \\\\[10pt]\n",
        "\\quad \\frac{\\partial^2 \\phi}{\\partial \\nu^2} = H_2^2 \\phi \\\\[10pt]\n",
        "\\quad \\frac{\\partial^2 \\phi}{\\partial s \\partial \\nu} = i u H_2 \\phi \\\\[15pt]\n",
        "\\quad \\text{Substitute into PDE:} \\\\[10pt]\n",
        "\\quad \\left( \\frac{\\partial H_1}{\\partial t} + \\frac{\\partial H_2}{\\partial t} \\nu_t \\right) + i u \\left( r - \\frac{1}{2} \\nu_t \\right) + \\kappa_\\nu (\\theta_\\nu - \\nu_t) H_2 + \\frac{1}{2} \\nu_t (-u^2) + \\frac{1}{2} \\sigma_\\nu^2 \\nu_t H_2^2 + \\rho \\sigma_\\nu \\nu_t i u H_2 = 0 \\\\[30pt]\n",
        "\n",
        "\\text{Separate Terms:} \\\\[15pt]\n",
        "\\quad \\frac{\\partial H_1}{\\partial t} + i u r + \\kappa_\\nu \\theta_\\nu H_2 = 0 \\\\[15pt]\n",
        "\\quad \\frac{\\partial H_2}{\\partial t} - \\frac{1}{2} i u \\nu_t - \\kappa_\\nu \\nu_t H_2 - \\frac{1}{2} u^2 \\nu_t + \\frac{1}{2} \\sigma_\\nu^2 \\nu_t H_2^2 + \\rho \\sigma_\\nu i u \\nu_t H_2 = 0 \\\\[15pt]\n",
        "\\quad \\text{Simplify } H_2 \\text{ by factoring out } \\nu_t: \\\\[10pt]\n",
        "\\quad \\frac{\\partial H_2}{\\partial t} + \\left( -\\frac{1}{2} i u - \\kappa_\\nu H_2 - \\frac{1}{2} u^2 + \\frac{1}{2} \\sigma_\\nu^2 H_2^2 + \\rho \\sigma_\\nu i u H_2 \\right) \\nu_t = 0 \\\\[30pt]\n",
        "\n",
        "\\text{Solve ODEs:} \\\\[15pt]\n",
        "\\quad \\text{For } H_1: \\\\[10pt]\n",
        "\\quad \\frac{\\partial H_1}{\\partial t} = -i u r - c_1 H_2, \\quad c_1 = \\kappa_\\nu \\theta_\\nu \\\\[15pt]\n",
        "\\quad H_1(u, T) = i u r T + c_1 \\int_0^T H_2(u, t) \\, dt \\\\[30pt]\n",
        "\\quad \\text{For } H_2: \\\\[15pt]\n",
        "\\quad \\frac{\\partial H_2}{\\partial t} = \\frac{1}{2} (u^2 + i u) + (\\kappa_\\nu - \\rho \\sigma_\\nu i u) H_2 - \\frac{1}{2} \\sigma_\\nu^2 H_2^2 \\\\[15pt]\n",
        "\\quad \\text{Define:} \\\\[10pt]\n",
        "\\quad c_2 = -\\sqrt{(\\rho \\sigma_\\nu i u - \\kappa_\\nu)^2 - \\sigma_\\nu^2 (-i u - u^2)} \\\\[10pt]\n",
        "\\quad c_3 = \\frac{\\kappa_\\nu - \\rho \\sigma_\\nu i u + c_2}{\\kappa_\\nu - \\rho \\sigma_\\nu i u - c_2} \\\\[15pt]\n",
        "\\quad \\text{Solution:} \\\\[10pt]\n",
        "\\quad H_2(u, T) = \\frac{\\kappa_\\nu - \\rho \\sigma_\\nu i u + c_2}{\\sigma_\\nu^2} \\frac{1 - e^{c_2 T}}{1 - c_3 e^{c_2 T}} \\\\[15pt]\n",
        "\\quad H_1(u, T) = i u r T + \\frac{c_1}{\\sigma_\\nu^2} \\left[ (\\kappa_\\nu - \\rho \\sigma_\\nu i u + c_2) T - 2 \\log \\left( \\frac{1 - c_3 e^{c_2 T}}{1 - c_3} \\right) \\right] \\\\[30pt]\n",
        "\n",
        "\\text{Final Characteristic Function:} \\\\[15pt]\n",
        "\\quad \\phi_H(u, T) = e^{H_1(u, T) + H_2(u, T) \\nu_0} \\\\[30pt]\n",
        "\n",
        "\\text{Apply to Lewis Formula:} \\\\[15pt]\n",
        "\\quad C_0 = S_0 - \\frac{\\sqrt{S_0 K} e^{-r T}}{\\pi} \\int_0^\\infty \\text{Re} \\left[ \\frac{e^{i z k} \\phi_H(z - i/2, T)}{z^2 + \\frac{1}{4}} \\right] dz\n",
        "\"\"\")"
      ],
      "metadata": {
        "colab": {
          "base_uri": "https://localhost:8080/",
          "height": 1000
        },
        "id": "64K14qDx90DQ",
        "outputId": "47e46e55-5e72-4d67-8f51-becbf472e81d"
      },
      "execution_count": null,
      "outputs": [
        {
          "output_type": "display_data",
          "data": {
            "text/plain": [
              "<IPython.core.display.Math object>"
            ],
            "text/latex": "$\\displaystyle \n\\textbf{Heston Pricing via Lewis (2001)} \\\\[30pt]\n\n\\text{Baseline Pricing Equation (Lewis, 2001):} \\\\[15pt]\n\\quad C_0 = S_0 - \\frac{\\sqrt{S_0 K} e^{-r T}}{\\pi} \\int_0^\\infty \\text{Re} \\left[ \\frac{e^{i z k} \\phi(z - i/2)}{z^2 + \\frac{1}{4}} \\right] dz, \\quad k = \\log \\left( \\frac{S_0}{K} \\right) \\\\[30pt]\n\n\\text{Components Needed:} \\\\[15pt]\n\\quad 1. \\, \\text{Characteristic function } \\phi(z - i/2) \\text{ for the Heston model.} \\\\[10pt]\n\\quad 2. \\, \\text{Numerical method to compute the integral (e.g., quadrature).} \\\\[30pt]\n\n\\text{Objective:} \\\\[15pt]\n\\quad \\text{Derive } \\phi_H(u, T) \\text{ for the Heston model and apply it in the Lewis formula.} \\\\[30pt]\n\n\\text{Heston Model Dynamics:} \\\\[15pt]\n\\quad dS_t = r S_t \\, dt + \\sqrt{\\nu_t} S_t \\, dW_t^S \\\\[10pt]\n\\quad d\\nu_t = \\kappa_\\nu (\\theta_\\nu - \\nu_t) \\, dt + \\sigma_\\nu \\sqrt{\\nu_t} \\, dW_t^\\nu \\\\[10pt]\n\\quad dW_t^S dW_t^\\nu = \\rho \\, dt \\\\[10pt]\n\\quad \\text{Where } \\nu_0 \\text{ is the initial variance, and } s_T = \\log S_T. \\\\[30pt]\n\n\\text{Characteristic Function Derivation:} \\\\[15pt]\n\\quad \\phi_H(u, T) = \\mathbb{E}^\\mathbb{Q} [ e^{i u s_T} | s_0, \\nu_0 ], \\quad s_0 = \\log S_0 \\\\[20pt]\n\\quad \\text{Assume a form:} \\\\[15pt]\n\\quad \\phi_H(u, T) = e^{H_1(u, T) + H_2(u, T) \\nu_0} \\\\[30pt]\n\n\\text{Log Price Dynamics:} \\\\[15pt]\n\\quad \\text{Apply It\\^o’s lemma to } s_t = \\log S_t: \\\\[10pt]\n\\quad ds_t = \\left( r - \\frac{1}{2} \\nu_t \\right) dt + \\sqrt{\\nu_t} dW_t^S \\\\[15pt]\n\\quad s_T = s_0 + \\int_0^T \\left( r - \\frac{1}{2} \\nu_t \\right) dt + \\int_0^T \\sqrt{\\nu_t} dW_t^S \\\\[30pt]\n\n\\text{Kolmogorov Backward Equation:} \\\\[15pt]\n\\quad \\frac{\\partial \\phi}{\\partial t} + \\left( r - \\frac{1}{2} \\nu_t \\right) \\frac{\\partial \\phi}{\\partial s} + \\kappa_\\nu (\\theta_\\nu - \\nu_t) \\frac{\\partial \\phi}{\\partial \\nu} + \\frac{1}{2} \\nu_t \\frac{\\partial^2 \\phi}{\\partial s^2} + \\frac{1}{2} \\sigma_\\nu^2 \\nu_t \\frac{\\partial^2 \\phi}{\\partial \\nu^2} + \\rho \\sigma_\\nu \\nu_t \\frac{\\partial^2 \\phi}{\\partial s \\partial \\nu} = 0 \\\\[15pt]\n\\quad \\text{Boundary condition:} \\\\[10pt]\n\\quad \\phi(u, T, s_T, \\nu_T) = e^{i u s_T} \\\\[30pt]\n\n\\text{Substitute Assumed Form:} \\\\[15pt]\n\\quad \\frac{\\partial \\phi}{\\partial t} = \\left( \\frac{\\partial H_1}{\\partial t} + \\frac{\\partial H_2}{\\partial t} \\nu_t \\right) \\phi \\\\[10pt]\n\\quad \\frac{\\partial \\phi}{\\partial s} = i u \\phi \\\\[10pt]\n\\quad \\frac{\\partial \\phi}{\\partial \\nu} = H_2 \\phi \\\\[10pt]\n\\quad \\frac{\\partial^2 \\phi}{\\partial s^2} = -u^2 \\phi \\\\[10pt]\n\\quad \\frac{\\partial^2 \\phi}{\\partial \\nu^2} = H_2^2 \\phi \\\\[10pt]\n\\quad \\frac{\\partial^2 \\phi}{\\partial s \\partial \\nu} = i u H_2 \\phi \\\\[15pt]\n\\quad \\text{Substitute into PDE:} \\\\[10pt]\n\\quad \\left( \\frac{\\partial H_1}{\\partial t} + \\frac{\\partial H_2}{\\partial t} \\nu_t \\right) + i u \\left( r - \\frac{1}{2} \\nu_t \\right) + \\kappa_\\nu (\\theta_\\nu - \\nu_t) H_2 + \\frac{1}{2} \\nu_t (-u^2) + \\frac{1}{2} \\sigma_\\nu^2 \\nu_t H_2^2 + \\rho \\sigma_\\nu \\nu_t i u H_2 = 0 \\\\[30pt]\n\n\\text{Separate Terms:} \\\\[15pt]\n\\quad \\frac{\\partial H_1}{\\partial t} + i u r + \\kappa_\\nu \\theta_\\nu H_2 = 0 \\\\[15pt]\n\\quad \\frac{\\partial H_2}{\\partial t} - \\frac{1}{2} i u \\nu_t - \\kappa_\\nu \\nu_t H_2 - \\frac{1}{2} u^2 \\nu_t + \\frac{1}{2} \\sigma_\\nu^2 \\nu_t H_2^2 + \\rho \\sigma_\\nu i u \\nu_t H_2 = 0 \\\\[15pt]\n\\quad \\text{Simplify } H_2 \\text{ by factoring out } \\nu_t: \\\\[10pt]\n\\quad \\frac{\\partial H_2}{\\partial t} + \\left( -\\frac{1}{2} i u - \\kappa_\\nu H_2 - \\frac{1}{2} u^2 + \\frac{1}{2} \\sigma_\\nu^2 H_2^2 + \\rho \\sigma_\\nu i u H_2 \\right) \\nu_t = 0 \\\\[30pt]\n\n\\text{Solve ODEs:} \\\\[15pt]\n\\quad \\text{For } H_1: \\\\[10pt]\n\\quad \\frac{\\partial H_1}{\\partial t} = -i u r - c_1 H_2, \\quad c_1 = \\kappa_\\nu \\theta_\\nu \\\\[15pt]\n\\quad H_1(u, T) = i u r T + c_1 \\int_0^T H_2(u, t) \\, dt \\\\[30pt]\n\\quad \\text{For } H_2: \\\\[15pt]\n\\quad \\frac{\\partial H_2}{\\partial t} = \\frac{1}{2} (u^2 + i u) + (\\kappa_\\nu - \\rho \\sigma_\\nu i u) H_2 - \\frac{1}{2} \\sigma_\\nu^2 H_2^2 \\\\[15pt]\n\\quad \\text{Define:} \\\\[10pt]\n\\quad c_2 = -\\sqrt{(\\rho \\sigma_\\nu i u - \\kappa_\\nu)^2 - \\sigma_\\nu^2 (-i u - u^2)} \\\\[10pt]\n\\quad c_3 = \\frac{\\kappa_\\nu - \\rho \\sigma_\\nu i u + c_2}{\\kappa_\\nu - \\rho \\sigma_\\nu i u - c_2} \\\\[15pt]\n\\quad \\text{Solution:} \\\\[10pt]\n\\quad H_2(u, T) = \\frac{\\kappa_\\nu - \\rho \\sigma_\\nu i u + c_2}{\\sigma_\\nu^2} \\frac{1 - e^{c_2 T}}{1 - c_3 e^{c_2 T}} \\\\[15pt]\n\\quad H_1(u, T) = i u r T + \\frac{c_1}{\\sigma_\\nu^2} \\left[ (\\kappa_\\nu - \\rho \\sigma_\\nu i u + c_2) T - 2 \\log \\left( \\frac{1 - c_3 e^{c_2 T}}{1 - c_3} \\right) \\right] \\\\[30pt]\n\n\\text{Final Characteristic Function:} \\\\[15pt]\n\\quad \\phi_H(u, T) = e^{H_1(u, T) + H_2(u, T) \\nu_0} \\\\[30pt]\n\n\\text{Apply to Lewis Formula:} \\\\[15pt]\n\\quad C_0 = S_0 - \\frac{\\sqrt{S_0 K} e^{-r T}}{\\pi} \\int_0^\\infty \\text{Re} \\left[ \\frac{e^{i z k} \\phi_H(z - i/2, T)}{z^2 + \\frac{1}{4}} \\right] dz\n$"
          },
          "metadata": {}
        }
      ]
    },
    {
      "cell_type": "code",
      "source": [],
      "metadata": {
        "id": "AMFmMN5L908l"
      },
      "execution_count": null,
      "outputs": []
    },
    {
      "cell_type": "markdown",
      "source": [
        "Deriving Merton PDE:"
      ],
      "metadata": {
        "id": "6fJVojEw-ST0"
      }
    },
    {
      "cell_type": "code",
      "source": [
        "# Merton PDE Derivation with Replicating Portfolio\n",
        "render_latex(r\"\"\"\n",
        "\\textbf{Merton Jump-Diffusion PDE Derivation with Replicating Portfolio} \\\\[20pt]\n",
        "\n",
        "\\text{Stock Dynamics (Risk-Neutral):} \\\\\n",
        "\\quad dS_t = (r - \\lambda k) S_t dt + \\sigma S_t dW_t^\\mathbb{Q} + (J - 1) S_t dN_t \\\\[15pt]\n",
        "\\text{Where:} \\\\\n",
        "\\quad r: \\text{Risk-free rate}, \\quad \\sigma: \\text{Volatility}, \\quad W_t^\\mathbb{Q}: \\text{Brownian motion}, \\\\\n",
        "\\quad N_t: \\text{Poisson process with intensity } \\lambda, \\\\\n",
        "\\quad J: \\text{Jump size (lognormal, } \\ln J \\sim \\mathcal{N}(\\mu_J, \\sigma_J^2)), \\quad k = \\mathbb{E}[J - 1] = e^{\\mu_J + \\frac{1}{2} \\sigma_J^2} - 1 \\\\[20pt]\n",
        "\n",
        "\\text{Assets:} \\\\\n",
        "\\quad 1. \\, S_t: \\text{Stock price} \\\\[15pt]\n",
        "\\quad 2. \\, B_t = e^{rt}: \\text{Risk-free asset}, \\quad dB_t = r B_t dt \\\\[20pt]\n",
        "\n",
        "\\text{Option Price:} \\\\\n",
        "\\quad V(S_t, t) \\\\[20pt]\n",
        "\n",
        "\\text{Portfolio:} \\\\\n",
        "\\quad \\Pi_t = \\Delta_t S_t + \\Psi_t B_t = V(S_t, t) \\\\[20pt]\n",
        "\n",
        "\\text{Stock Price Change:} \\\\\n",
        "\\quad \\text{If a jump occurs, } S_t \\to J S_t, \\text{ so } V(S_t, t) \\to V(J S_t, t), \\\\\n",
        "\\quad \\Delta S_t = (J - 1) S_t, \\quad \\Delta V = V(J S_t, t) - V(S_t, t) \\\\[20pt]\n",
        "\n",
        "\\text{Apply Itô’s lemma (with jumps):} \\\\\n",
        "\\quad dV = \\left( \\frac{\\partial V}{\\partial t} + (r - \\lambda k) S_t \\frac{\\partial V}{\\partial S} + \\frac{1}{2} \\sigma^2 S_t^2 \\frac{\\partial^2 V}{\\partial S^2} \\right) dt + \\sigma S_t \\frac{\\partial V}{\\partial S} dW_t^\\mathbb{Q} + [V(J S_t, t) - V(S_t, t)] dN_t \\\\[20pt]\n",
        "\n",
        "\\text{Portfolio Differential:} \\\\\n",
        "\\quad d\\Pi_t = \\Delta_t dS_t + \\Psi_t r B_t dt \\\\\n",
        "\\quad = \\Delta_t \\left[ (r - \\lambda k) S_t dt + \\sigma S_t dW_t^\\mathbb{Q} + (J - 1) S_t dN_t \\right] + \\Psi_t r B_t dt \\\\[20pt]\n",
        "\n",
        "\\text{Risk-Neutral Condition:} \\\\\n",
        "\\quad d\\Pi_t = r \\Pi_t dt = r (V - \\Delta_t S_t) dt \\\\[20pt]\n",
        "\n",
        "\\text{Hedge Continuous Risk:} \\\\\n",
        "\\quad \\text{Coefficient of } dW_t^\\mathbb{Q}: \\quad \\Delta_t \\sigma S_t = \\sigma S_t \\frac{\\partial V}{\\partial S} \\\\\n",
        "\\quad \\Delta_t = \\frac{\\partial V}{\\partial S} \\\\[20pt]\n",
        "\n",
        "\\text{Substitute } \\Delta_t: \\\\\n",
        "\\quad d\\Pi_t = \\frac{\\partial V}{\\partial S} \\left[ (r - \\lambda k) S_t dt + \\sigma S_t dW_t^\\mathbb{Q} + (J - 1) S_t dN_t \\right] + r (V - \\frac{\\partial V}{\\partial S} S_t) dt \\\\[20pt]\n",
        "\n",
        "\\text{Equate to } r V dt \\text{ and simplify (dt terms):} \\\\\n",
        "\\quad \\frac{\\partial V}{\\partial t} + (r - \\lambda k) S_t \\frac{\\partial V}{\\partial S} + \\frac{1}{2} \\sigma^2 S_t^2 \\frac{\\partial^2 V}{\\partial S^2} + \\lambda \\mathbb{E} [V(J S_t, t) - V(S_t, t)] - r V = 0 \\\\[20pt]\n",
        "\n",
        "\\text{Final Merton PDE:} \\\\\n",
        "\\quad \\frac{\\partial V}{\\partial t} + (r - \\lambda k) S_t \\frac{\\partial V}{\\partial S} + \\frac{1}{2} \\sigma^2 S_t^2 \\frac{\\partial^2 V}{\\partial S^2} + \\lambda \\int_0^\\infty [V(J S_t, t) - V(S_t, t)] f(J) dJ - r V = 0\n",
        "\"\"\")"
      ],
      "metadata": {
        "colab": {
          "base_uri": "https://localhost:8080/",
          "height": 1000
        },
        "id": "5aLAIZHa-U0D",
        "outputId": "e10353a7-ae5f-4c07-e139-75345e1ae9a1"
      },
      "execution_count": null,
      "outputs": [
        {
          "output_type": "display_data",
          "data": {
            "text/plain": [
              "<IPython.core.display.Math object>"
            ],
            "text/latex": "$\\displaystyle \n\\textbf{Merton Jump-Diffusion PDE Derivation with Replicating Portfolio} \\\\[20pt]\n\n\\text{Stock Dynamics (Risk-Neutral):} \\\\ \n\\quad dS_t = (r - \\lambda k) S_t dt + \\sigma S_t dW_t^\\mathbb{Q} + (J - 1) S_t dN_t \\\\[15pt]\n\\text{Where:} \\\\ \n\\quad r: \\text{Risk-free rate}, \\quad \\sigma: \\text{Volatility}, \\quad W_t^\\mathbb{Q}: \\text{Brownian motion}, \\\\ \n\\quad N_t: \\text{Poisson process with intensity } \\lambda, \\\\ \n\\quad J: \\text{Jump size (lognormal, } \\ln J \\sim \\mathcal{N}(\\mu_J, \\sigma_J^2)), \\quad k = \\mathbb{E}[J - 1] = e^{\\mu_J + \\frac{1}{2} \\sigma_J^2} - 1 \\\\[20pt]\n\n\\text{Assets:} \\\\ \n\\quad 1. \\, S_t: \\text{Stock price} \\\\[15pt]\n\\quad 2. \\, B_t = e^{rt}: \\text{Risk-free asset}, \\quad dB_t = r B_t dt \\\\[20pt]\n\n\\text{Option Price:} \\\\ \n\\quad V(S_t, t) \\\\[20pt]\n\n\\text{Portfolio:} \\\\ \n\\quad \\Pi_t = \\Delta_t S_t + \\Psi_t B_t = V(S_t, t) \\\\[20pt]\n\n\\text{Stock Price Change:} \\\\ \n\\quad \\text{If a jump occurs, } S_t \\to J S_t, \\text{ so } V(S_t, t) \\to V(J S_t, t), \\\\ \n\\quad \\Delta S_t = (J - 1) S_t, \\quad \\Delta V = V(J S_t, t) - V(S_t, t) \\\\[20pt]\n\n\\text{Apply Itô’s lemma (with jumps):} \\\\ \n\\quad dV = \\left( \\frac{\\partial V}{\\partial t} + (r - \\lambda k) S_t \\frac{\\partial V}{\\partial S} + \\frac{1}{2} \\sigma^2 S_t^2 \\frac{\\partial^2 V}{\\partial S^2} \\right) dt + \\sigma S_t \\frac{\\partial V}{\\partial S} dW_t^\\mathbb{Q} + [V(J S_t, t) - V(S_t, t)] dN_t \\\\[20pt]\n\n\\text{Portfolio Differential:} \\\\ \n\\quad d\\Pi_t = \\Delta_t dS_t + \\Psi_t r B_t dt \\\\ \n\\quad = \\Delta_t \\left[ (r - \\lambda k) S_t dt + \\sigma S_t dW_t^\\mathbb{Q} + (J - 1) S_t dN_t \\right] + \\Psi_t r B_t dt \\\\[20pt]\n\n\\text{Risk-Neutral Condition:} \\\\ \n\\quad d\\Pi_t = r \\Pi_t dt = r (V - \\Delta_t S_t) dt \\\\[20pt]\n\n\\text{Hedge Continuous Risk:} \\\\ \n\\quad \\text{Coefficient of } dW_t^\\mathbb{Q}: \\quad \\Delta_t \\sigma S_t = \\sigma S_t \\frac{\\partial V}{\\partial S} \\\\ \n\\quad \\Delta_t = \\frac{\\partial V}{\\partial S} \\\\[20pt]\n\n\\text{Substitute } \\Delta_t: \\\\ \n\\quad d\\Pi_t = \\frac{\\partial V}{\\partial S} \\left[ (r - \\lambda k) S_t dt + \\sigma S_t dW_t^\\mathbb{Q} + (J - 1) S_t dN_t \\right] + r (V - \\frac{\\partial V}{\\partial S} S_t) dt \\\\[20pt]\n\n\\text{Equate to } r V dt \\text{ and simplify (dt terms):} \\\\ \n\\quad \\frac{\\partial V}{\\partial t} + (r - \\lambda k) S_t \\frac{\\partial V}{\\partial S} + \\frac{1}{2} \\sigma^2 S_t^2 \\frac{\\partial^2 V}{\\partial S^2} + \\lambda \\mathbb{E} [V(J S_t, t) - V(S_t, t)] - r V = 0 \\\\[20pt]\n\n\\text{Final Merton PDE:} \\\\ \n\\quad \\frac{\\partial V}{\\partial t} + (r - \\lambda k) S_t \\frac{\\partial V}{\\partial S} + \\frac{1}{2} \\sigma^2 S_t^2 \\frac{\\partial^2 V}{\\partial S^2} + \\lambda \\int_0^\\infty [V(J S_t, t) - V(S_t, t)] f(J) dJ - r V = 0\n$"
          },
          "metadata": {}
        }
      ]
    },
    {
      "cell_type": "markdown",
      "source": [],
      "metadata": {
        "id": "ZAeP9HnIhiny"
      }
    },
    {
      "cell_type": "code",
      "source": [
        "\n",
        "render_latex(r\"\"\"\n",
        "\\textbf{Merton (1976) via Lewis (2001)} \\\\[30pt]\n",
        "\n",
        "\\text{Lewis (2001) Pricing Formula:} \\\\[15pt]\n",
        "\\quad C_0 = S_0 - \\frac{\\sqrt{S_0 K} e^{-r T}}{\\pi} \\int_0^\\infty \\text{Re} \\left[ \\frac{e^{i z k} \\phi(z - i/2)}{z^2 + \\frac{1}{4}} \\right] dz, \\quad k = \\log \\left( \\frac{S_0}{K} \\right) \\\\[30pt]\n",
        "\n",
        "\\text{Merton Characteristic Function:} \\\\[15pt]\n",
        "\\quad \\phi_{M76}(u, T) = e^{i u \\omega - \\frac{u^2 \\sigma^2}{2} T + \\lambda \\left( e^{i u \\mu_J - \\frac{u^2 \\delta^2}{2}} - 1 \\right) T} \\\\[15pt]\n",
        "\\quad \\text{Where:} \\\\[10pt]\n",
        "\\quad \\omega = r - \\frac{\\sigma^2}{2} - \\lambda \\left( e^{\\mu_J + \\frac{\\delta^2}{2}} - 1 \\right) \\\\[30pt]\n",
        "\n",
        "\\text{Derivation of } \\phi_{M76}(u, T): \\\\[15pt]\n",
        "\\quad s_t = \\log S_t, \\quad ds_t = \\left( r - r_J - \\frac{1}{2} \\sigma^2 \\right) dt + \\sigma dZ_t + \\log(1 + J_t) dN_t \\\\[15pt]\n",
        "\\quad s_T = s_0 + \\left( r - r_J - \\frac{1}{2} \\sigma^2 \\right) T + \\sigma Z_T + \\sum_{j=1}^{N_T} \\log(1 + J_j) \\\\[15pt]\n",
        "\\quad \\phi(u, T) = \\mathbb{E}^\\mathbb{Q} [ e^{i u s_T} ] = e^{i u s_0} \\mathbb{E}^\\mathbb{Q} \\left[ e^{i u \\left[ (r - r_J - \\frac{1}{2} \\sigma^2) T + \\sigma Z_T + \\sum_{j=1}^{N_T} \\log(1 + J_j) \\right]} \\right] \\\\[30pt]\n",
        "\n",
        "\\text{Expectations:} \\\\[15pt]\n",
        "\\quad \\text{Diffusion term:} \\quad \\mathbb{E} [ e^{i u \\sigma Z_T} ] = e^{-\\frac{u^2 \\sigma^2}{2} T}, \\quad Z_T \\sim N(0, T) \\\\[15pt]\n",
        "\\quad \\text{Jump term:} \\\\[10pt]\n",
        "\\quad \\mathbb{E} [ e^{i u \\sum_{j=1}^{N_T} \\log(1 + J_j)} ] = \\sum_{n=0}^\\infty \\frac{e^{-\\lambda T} (\\lambda T)^n}{n!} \\left( \\mathbb{E} [ e^{i u \\log(1 + J)} ] \\right)^n \\\\[15pt]\n",
        "\\quad \\log(1 + J_t) \\sim N \\left( \\log(1 + \\mu_J) - \\frac{\\delta^2}{2}, \\delta^2 \\right) \\\\[10pt]\n",
        "\\quad \\mathbb{E} [ e^{i u \\log(1 + J)} ] = e^{i u \\left( \\log(1 + \\mu_J) - \\frac{\\delta^2}{2} \\right) - \\frac{u^2 \\delta^2}{2}} = \\frac{e^{i u \\mu_J - \\frac{u^2 \\delta^2}{2}}}{(1 + \\mu_J)^{-i u}} \\\\[15pt]\n",
        "\\quad \\text{Adjust for Merton’s form:} \\quad e^{i u \\mu_J - \\frac{u^2 \\delta^2}{2}} \\\\[15pt]\n",
        "\\quad \\text{Poisson sum:} \\quad \\mathbb{E} [ e^{i u \\sum \\log(1 + J_j)} ] = e^{\\lambda T \\left( e^{i u \\mu_J - \\frac{u^2 \\delta^2}{2}} - 1 \\right)} \\\\[30pt]\n",
        "\n",
        "\\text{Combine:} \\\\[15pt]\n",
        "\\quad \\phi_{M76}(u, T) = e^{i u \\left[ s_0 + (r - r_J - \\frac{1}{2} \\sigma^2) T \\right] - \\frac{u^2 \\sigma^2}{2} T + \\lambda T \\left( e^{i u \\mu_J - \\frac{u^2 \\delta^2}{2}} - 1 \\right)} \\\\[15pt]\n",
        "\\quad \\text{Substitute } r_J = \\lambda \\left( e^{\\mu_J + \\frac{\\delta^2}{2}} - 1 \\right): \\\\[10pt]\n",
        "\\quad \\omega = r - \\frac{\\sigma^2}{2} - \\lambda \\left( e^{\\mu_J + \\frac{\\delta^2}{2}} - 1 \\right) \\\\[15pt]\n",
        "\\quad \\phi_{M76}(u, T) = e^{i u \\omega T - \\frac{u^2 \\sigma^2}{2} T + \\lambda T \\left( e^{i u \\mu_J - \\frac{u^2 \\delta^2}{2}} - 1 \\right)} \\\\[30pt]\n",
        "\n",
        "\\text{Apply to Lewis:} \\\\[15pt]\n",
        "\\quad \\phi(z - i/2, T) = e^{i (z - i/2) \\omega T - \\frac{(z - i/2)^2 \\sigma^2}{2} T + \\lambda T \\left( e^{i (z - i/2) \\mu_J - \\frac{(z - i/2)^2 \\delta^2}{2}} - 1 \\right)} \\\\[15pt]\n",
        "\\quad C_0 = S_0 - \\frac{\\sqrt{S_0 K} e^{-r T}}{\\pi} \\int_0^\\infty \\text{Re} \\left[ \\frac{e^{i z k} \\phi_{M76}(z - i/2, T)}{z^2 + \\frac{1}{4}} \\right] dz\n",
        "\"\"\")"
      ],
      "metadata": {
        "colab": {
          "base_uri": "https://localhost:8080/",
          "height": 1000
        },
        "id": "6MeQ-sNX-VOJ",
        "outputId": "1b163c1f-ec3a-4354-c39b-db6f93ce0f28"
      },
      "execution_count": null,
      "outputs": [
        {
          "output_type": "display_data",
          "data": {
            "text/plain": [
              "<IPython.core.display.Math object>"
            ],
            "text/latex": "$\\displaystyle \n\\textbf{Merton (1976) via Lewis (2001)} \\\\[30pt]\n\n\\text{Lewis (2001) Pricing Formula:} \\\\[15pt]\n\\quad C_0 = S_0 - \\frac{\\sqrt{S_0 K} e^{-r T}}{\\pi} \\int_0^\\infty \\text{Re} \\left[ \\frac{e^{i z k} \\phi(z - i/2)}{z^2 + \\frac{1}{4}} \\right] dz, \\quad k = \\log \\left( \\frac{S_0}{K} \\right) \\\\[30pt]\n\n\\text{Merton Characteristic Function:} \\\\[15pt]\n\\quad \\phi_{M76}(u, T) = e^{i u \\omega - \\frac{u^2 \\sigma^2}{2} T + \\lambda \\left( e^{i u \\mu_J - \\frac{u^2 \\delta^2}{2}} - 1 \\right) T} \\\\[15pt]\n\\quad \\text{Where:} \\\\[10pt]\n\\quad \\omega = r - \\frac{\\sigma^2}{2} - \\lambda \\left( e^{\\mu_J + \\frac{\\delta^2}{2}} - 1 \\right) \\\\[30pt]\n\n\\text{Derivation of } \\phi_{M76}(u, T): \\\\[15pt]\n\\quad s_t = \\log S_t, \\quad ds_t = \\left( r - r_J - \\frac{1}{2} \\sigma^2 \\right) dt + \\sigma dZ_t + \\log(1 + J_t) dN_t \\\\[15pt]\n\\quad s_T = s_0 + \\left( r - r_J - \\frac{1}{2} \\sigma^2 \\right) T + \\sigma Z_T + \\sum_{j=1}^{N_T} \\log(1 + J_j) \\\\[15pt]\n\\quad \\phi(u, T) = \\mathbb{E}^\\mathbb{Q} [ e^{i u s_T} ] = e^{i u s_0} \\mathbb{E}^\\mathbb{Q} \\left[ e^{i u \\left[ (r - r_J - \\frac{1}{2} \\sigma^2) T + \\sigma Z_T + \\sum_{j=1}^{N_T} \\log(1 + J_j) \\right]} \\right] \\\\[30pt]\n\n\\text{Expectations:} \\\\[15pt]\n\\quad \\text{Diffusion term:} \\quad \\mathbb{E} [ e^{i u \\sigma Z_T} ] = e^{-\\frac{u^2 \\sigma^2}{2} T}, \\quad Z_T \\sim N(0, T) \\\\[15pt]\n\\quad \\text{Jump term:} \\\\[10pt]\n\\quad \\mathbb{E} [ e^{i u \\sum_{j=1}^{N_T} \\log(1 + J_j)} ] = \\sum_{n=0}^\\infty \\frac{e^{-\\lambda T} (\\lambda T)^n}{n!} \\left( \\mathbb{E} [ e^{i u \\log(1 + J)} ] \\right)^n \\\\[15pt]\n\\quad \\log(1 + J_t) \\sim N \\left( \\log(1 + \\mu_J) - \\frac{\\delta^2}{2}, \\delta^2 \\right) \\\\[10pt]\n\\quad \\mathbb{E} [ e^{i u \\log(1 + J)} ] = e^{i u \\left( \\log(1 + \\mu_J) - \\frac{\\delta^2}{2} \\right) - \\frac{u^2 \\delta^2}{2}} = \\frac{e^{i u \\mu_J - \\frac{u^2 \\delta^2}{2}}}{(1 + \\mu_J)^{-i u}} \\\\[15pt]\n\\quad \\text{Adjust for Merton’s form:} \\quad e^{i u \\mu_J - \\frac{u^2 \\delta^2}{2}} \\\\[15pt]\n\\quad \\text{Poisson sum:} \\quad \\mathbb{E} [ e^{i u \\sum \\log(1 + J_j)} ] = e^{\\lambda T \\left( e^{i u \\mu_J - \\frac{u^2 \\delta^2}{2}} - 1 \\right)} \\\\[30pt]\n\n\\text{Combine:} \\\\[15pt]\n\\quad \\phi_{M76}(u, T) = e^{i u \\left[ s_0 + (r - r_J - \\frac{1}{2} \\sigma^2) T \\right] - \\frac{u^2 \\sigma^2}{2} T + \\lambda T \\left( e^{i u \\mu_J - \\frac{u^2 \\delta^2}{2}} - 1 \\right)} \\\\[15pt]\n\\quad \\text{Substitute } r_J = \\lambda \\left( e^{\\mu_J + \\frac{\\delta^2}{2}} - 1 \\right): \\\\[10pt]\n\\quad \\omega = r - \\frac{\\sigma^2}{2} - \\lambda \\left( e^{\\mu_J + \\frac{\\delta^2}{2}} - 1 \\right) \\\\[15pt]\n\\quad \\phi_{M76}(u, T) = e^{i u \\omega T - \\frac{u^2 \\sigma^2}{2} T + \\lambda T \\left( e^{i u \\mu_J - \\frac{u^2 \\delta^2}{2}} - 1 \\right)} \\\\[30pt]\n\n\\text{Apply to Lewis:} \\\\[15pt]\n\\quad \\phi(z - i/2, T) = e^{i (z - i/2) \\omega T - \\frac{(z - i/2)^2 \\sigma^2}{2} T + \\lambda T \\left( e^{i (z - i/2) \\mu_J - \\frac{(z - i/2)^2 \\delta^2}{2}} - 1 \\right)} \\\\[15pt]\n\\quad C_0 = S_0 - \\frac{\\sqrt{S_0 K} e^{-r T}}{\\pi} \\int_0^\\infty \\text{Re} \\left[ \\frac{e^{i z k} \\phi_{M76}(z - i/2, T)}{z^2 + \\frac{1}{4}} \\right] dz\n$"
          },
          "metadata": {}
        }
      ]
    },
    {
      "cell_type": "code",
      "source": [
        "\n",
        "render_latex(r\"\"\"\n",
        "\\textbf{Merton (1976) via Carr-Madan (1999)} \\\\[30pt]\n",
        "\n",
        "\\text{Merton Risk-Neutral Dynamics:} \\\\[15pt]\n",
        "\\quad dS_t = (r - r_J) S_t \\, dt + \\sigma S_t \\, dZ_t + J_t S_t \\, dN_t \\\\[15pt]\n",
        "\\quad \\text{Where:} \\\\[10pt]\n",
        "\\quad r: \\text{constant risk-free rate,} \\\\[10pt]\n",
        "\\quad r_J = \\lambda \\left( e^{\\mu_J + \\frac{\\delta^2}{2}} - 1 \\right): \\text{drift correction,} \\\\[10pt]\n",
        "\\quad \\sigma: \\text{constant volatility,} \\\\[10pt]\n",
        "\\quad Z_t: \\text{standard Brownian motion,} \\\\[10pt]\n",
        "\\quad J_t: \\text{jump size, } \\log(1 + J_t) \\sim N \\left( \\log(1 + \\mu_J) - \\frac{\\delta^2}{2}, \\delta^2 \\right), \\\\[10pt]\n",
        "\\quad N_t: \\text{Poisson process with intensity } \\lambda \\\\[30pt]\n",
        "\n",
        "\\text{Carr-Madan (1999) Pricing Formula:} \\\\[15pt]\n",
        "\\quad C_0 = \\frac{e^{-\\alpha k}}{\\pi} \\int_0^\\infty e^{-i \\nu k} \\Psi(\\nu) \\, d\\nu \\\\[15pt]\n",
        "\\quad \\text{Where:} \\\\[10pt]\n",
        "\\quad k = \\log K, \\\\[10pt]\n",
        "\\quad \\Psi(\\nu) = \\frac{e^{-r T} \\phi(\\nu - (\\alpha + 1)i)}{\\alpha^2 + \\alpha - \\nu^2 + i (2\\alpha + 1) \\nu}, \\\\[10pt]\n",
        "\\quad \\phi(u) = \\mathbb{E}^\\mathbb{Q} [ e^{i u s_T} ], \\quad s_T = \\log S_T \\\\[30pt]\n",
        "\n",
        "\\text{Merton Characteristic Function:} \\\\[15pt]\n",
        "\\quad \\phi_{M76}(u, T) = e^{i u \\omega T - \\frac{u^2 \\sigma^2}{2} T + \\lambda T \\left( e^{i u \\mu_J - \\frac{u^2 \\delta^2}{2}} - 1 \\right)} \\\\[15pt]\n",
        "\\quad \\text{Where:} \\\\[10pt]\n",
        "\\quad \\omega = r - \\frac{\\sigma^2}{2} - \\lambda \\left( e^{\\mu_J + \\frac{\\delta^2}{2}} - 1 \\right) \\\\[30pt]\n",
        "\n",
        "\\text{Derivation of } \\phi_{M76}(u, T): \\\\[15pt]\n",
        "\\quad s_t = \\log S_t, \\\\[10pt]\n",
        "\\quad ds_t = \\left( r - r_J - \\frac{1}{2} \\sigma^2 \\right) dt + \\sigma dZ_t + \\log(1 + J_t) dN_t \\\\[15pt]\n",
        "\\quad s_T = s_0 + \\left( r - r_J - \\frac{1}{2} \\sigma^2 \\right) T + \\sigma Z_T + \\sum_{j=1}^{N_T} \\log(1 + J_j) \\\\[15pt]\n",
        "\\quad \\phi(u, T) = e^{i u s_0} \\mathbb{E}^\\mathbb{Q} \\left[ e^{i u \\left[ (r - r_J - \\frac{1}{2} \\sigma^2) T + \\sigma Z_T + \\sum_{j=1}^{N_T} \\log(1 + J_j) \\right]} \\right] \\\\[15pt]\n",
        "\\quad \\text{Diffusion:} \\quad \\mathbb{E} [ e^{i u \\sigma Z_T} ] = e^{-\\frac{u^2 \\sigma^2}{2} T} \\\\[10pt]\n",
        "\\quad \\text{Jumps:} \\quad \\mathbb{E} [ e^{i u \\sum \\log(1 + J_j)} ] = e^{\\lambda T \\left( e^{i u \\mu_J - \\frac{u^2 \\delta^2}{2}} - 1 \\right)} \\\\[15pt]\n",
        "\\quad \\phi_{M76}(u, T) = e^{i u (s_0 + \\omega T) - \\frac{u^2 \\sigma^2}{2} T + \\lambda T \\left( e^{i u \\mu_J - \\frac{u^2 \\delta^2}{2}} - 1 \\right)} \\\\[30pt]\n",
        "\n",
        "\\text{Apply to Carr-Madan:} \\\\[15pt]\n",
        "\\quad \\text{Compute } \\phi(\\nu - (\\alpha + 1)i): \\\\[10pt]\n",
        "\\quad \\phi(\\nu - (\\alpha + 1)i, T) = e^{i (\\nu - (\\alpha + 1)i) \\omega T - \\frac{(\\nu - (\\alpha + 1)i)^2 \\sigma^2}{2} T + \\lambda T \\left( e^{i (\\nu - (\\alpha + 1)i) \\mu_J - \\frac{(\\nu - (\\alpha + 1)i)^2 \\delta^2}{2}} - 1 \\right)} \\\\[15pt]\n",
        "\\quad \\Psi(\\nu) = \\frac{e^{-r T} \\phi(\\nu - (\\alpha + 1)i)}{\\alpha^2 + \\alpha - \\nu^2 + i (2\\alpha + 1) \\nu} \\\\[15pt]\n",
        "\\quad C_0 = \\frac{e^{-\\alpha k}}{\\pi} \\int_0^\\infty e^{-i \\nu k} \\Psi(\\nu) \\, d\\nu \\\\[30pt]\n",
        "\n",
        "\\text{Additional Note:} \\\\[15pt]\n",
        "\\quad \\text{The Carr-Madan method damps the option price with } e^{\\alpha k} \\text{ to ensure integrability, then uses the Fourier transform of this damped price, inverted via } \\Psi(\\nu).\n",
        "\"\"\")"
      ],
      "metadata": {
        "colab": {
          "base_uri": "https://localhost:8080/",
          "height": 1000
        },
        "id": "VQ8Upww3AMvl",
        "outputId": "ade52c49-741b-412d-f280-b5ec5f4c9192"
      },
      "execution_count": null,
      "outputs": [
        {
          "output_type": "display_data",
          "data": {
            "text/plain": [
              "<IPython.core.display.Math object>"
            ],
            "text/latex": "$\\displaystyle \n\\textbf{Merton (1976) via Carr-Madan (1999)} \\\\[30pt]\n\n\\text{Merton Risk-Neutral Dynamics:} \\\\[15pt]\n\\quad dS_t = (r - r_J) S_t \\, dt + \\sigma S_t \\, dZ_t + J_t S_t \\, dN_t \\\\[15pt]\n\\quad \\text{Where:} \\\\[10pt]\n\\quad r: \\text{constant risk-free rate,} \\\\[10pt]\n\\quad r_J = \\lambda \\left( e^{\\mu_J + \\frac{\\delta^2}{2}} - 1 \\right): \\text{drift correction,} \\\\[10pt]\n\\quad \\sigma: \\text{constant volatility,} \\\\[10pt]\n\\quad Z_t: \\text{standard Brownian motion,} \\\\[10pt]\n\\quad J_t: \\text{jump size, } \\log(1 + J_t) \\sim N \\left( \\log(1 + \\mu_J) - \\frac{\\delta^2}{2}, \\delta^2 \\right), \\\\[10pt]\n\\quad N_t: \\text{Poisson process with intensity } \\lambda \\\\[30pt]\n\n\\text{Carr-Madan (1999) Pricing Formula:} \\\\[15pt]\n\\quad C_0 = \\frac{e^{-\\alpha k}}{\\pi} \\int_0^\\infty e^{-i \\nu k} \\Psi(\\nu) \\, d\\nu \\\\[15pt]\n\\quad \\text{Where:} \\\\[10pt]\n\\quad k = \\log K, \\\\[10pt]\n\\quad \\Psi(\\nu) = \\frac{e^{-r T} \\phi(\\nu - (\\alpha + 1)i)}{\\alpha^2 + \\alpha - \\nu^2 + i (2\\alpha + 1) \\nu}, \\\\[10pt]\n\\quad \\phi(u) = \\mathbb{E}^\\mathbb{Q} [ e^{i u s_T} ], \\quad s_T = \\log S_T \\\\[30pt]\n\n\\text{Merton Characteristic Function:} \\\\[15pt]\n\\quad \\phi_{M76}(u, T) = e^{i u \\omega T - \\frac{u^2 \\sigma^2}{2} T + \\lambda T \\left( e^{i u \\mu_J - \\frac{u^2 \\delta^2}{2}} - 1 \\right)} \\\\[15pt]\n\\quad \\text{Where:} \\\\[10pt]\n\\quad \\omega = r - \\frac{\\sigma^2}{2} - \\lambda \\left( e^{\\mu_J + \\frac{\\delta^2}{2}} - 1 \\right) \\\\[30pt]\n\n\\text{Derivation of } \\phi_{M76}(u, T): \\\\[15pt]\n\\quad s_t = \\log S_t, \\\\[10pt]\n\\quad ds_t = \\left( r - r_J - \\frac{1}{2} \\sigma^2 \\right) dt + \\sigma dZ_t + \\log(1 + J_t) dN_t \\\\[15pt]\n\\quad s_T = s_0 + \\left( r - r_J - \\frac{1}{2} \\sigma^2 \\right) T + \\sigma Z_T + \\sum_{j=1}^{N_T} \\log(1 + J_j) \\\\[15pt]\n\\quad \\phi(u, T) = e^{i u s_0} \\mathbb{E}^\\mathbb{Q} \\left[ e^{i u \\left[ (r - r_J - \\frac{1}{2} \\sigma^2) T + \\sigma Z_T + \\sum_{j=1}^{N_T} \\log(1 + J_j) \\right]} \\right] \\\\[15pt]\n\\quad \\text{Diffusion:} \\quad \\mathbb{E} [ e^{i u \\sigma Z_T} ] = e^{-\\frac{u^2 \\sigma^2}{2} T} \\\\[10pt]\n\\quad \\text{Jumps:} \\quad \\mathbb{E} [ e^{i u \\sum \\log(1 + J_j)} ] = e^{\\lambda T \\left( e^{i u \\mu_J - \\frac{u^2 \\delta^2}{2}} - 1 \\right)} \\\\[15pt]\n\\quad \\phi_{M76}(u, T) = e^{i u (s_0 + \\omega T) - \\frac{u^2 \\sigma^2}{2} T + \\lambda T \\left( e^{i u \\mu_J - \\frac{u^2 \\delta^2}{2}} - 1 \\right)} \\\\[30pt]\n\n\\text{Apply to Carr-Madan:} \\\\[15pt]\n\\quad \\text{Compute } \\phi(\\nu - (\\alpha + 1)i): \\\\[10pt]\n\\quad \\phi(\\nu - (\\alpha + 1)i, T) = e^{i (\\nu - (\\alpha + 1)i) \\omega T - \\frac{(\\nu - (\\alpha + 1)i)^2 \\sigma^2}{2} T + \\lambda T \\left( e^{i (\\nu - (\\alpha + 1)i) \\mu_J - \\frac{(\\nu - (\\alpha + 1)i)^2 \\delta^2}{2}} - 1 \\right)} \\\\[15pt]\n\\quad \\Psi(\\nu) = \\frac{e^{-r T} \\phi(\\nu - (\\alpha + 1)i)}{\\alpha^2 + \\alpha - \\nu^2 + i (2\\alpha + 1) \\nu} \\\\[15pt]\n\\quad C_0 = \\frac{e^{-\\alpha k}}{\\pi} \\int_0^\\infty e^{-i \\nu k} \\Psi(\\nu) \\, d\\nu \\\\[30pt]\n\n\\text{Additional Note:} \\\\[15pt]\n\\quad \\text{The Carr-Madan method damps the option price with } e^{\\alpha k} \\text{ to ensure integrability, then uses the Fourier transform of this damped price, inverted via } \\Psi(\\nu).\n$"
          },
          "metadata": {}
        }
      ]
    },
    {
      "cell_type": "code",
      "source": [
        "\n",
        "carr_madan_damping_process = (\n",
        "    r\"\\text{Carr-Madan: Damping with } e^{\\alpha k} \\text{ (} k = \\ln(K/S_0), \\alpha > 0 \\text{) makes } C(k) \\text{ integrable. Fourier transform of } e^{\\alpha k} C(k) \\text{ gives } \\Psi(\\nu), \\text{ inverted as } C(k) = e^{-\\alpha k} \\times \\text{FFT of } \\Psi(\\nu) \\text{ using the log-price CF.}\"\n",
        ")\n",
        "\n",
        "render_latex(carr_madan_damping_process)"
      ],
      "metadata": {
        "colab": {
          "base_uri": "https://localhost:8080/",
          "height": 81
        },
        "id": "ecwiu-Qhdntp",
        "outputId": "f6b67d33-01df-42c4-e67a-5dbd92250351"
      },
      "execution_count": null,
      "outputs": [
        {
          "output_type": "display_data",
          "data": {
            "text/plain": [
              "<IPython.core.display.Math object>"
            ],
            "text/latex": "$\\displaystyle \\text{Carr-Madan: Damping with } e^{\\alpha k} \\text{ (} k = \\ln(K/S_0), \\alpha > 0 \\text{) makes } C(k) \\text{ integrable. Fourier transform of } e^{\\alpha k} C(k) \\text{ gives } \\Psi(\\nu), \\text{ inverted as } C(k) = e^{-\\alpha k} \\times \\text{FFT of } \\Psi(\\nu) \\text{ using the log-price CF.}$"
          },
          "metadata": {}
        }
      ]
    },
    {
      "cell_type": "code",
      "source": [
        "Number = Union[float, int]\n",
        "\n",
        "def Heston_characteristic_function(u: Number, T: float, r: float, kappa_v: float, theta_v: float,\n",
        "                    sigma_v: float, rho: float, v0: float) -> complex:\n",
        "    \"\"\"\n",
        "    Valuation of European call option in Heston model via Lewis (2001)\n",
        "    Fourier-based approach: characteristic function.\n",
        "\n",
        "    Parameter definitions see function heston_call.\n",
        "    \"\"\"\n",
        "    c1: float = kappa_v * theta_v\n",
        "    c2: complex = -np.sqrt(\n",
        "        (rho * sigma_v * u * 1j - kappa_v) ** 2 - sigma_v**2 * (-u * 1j - u**2)\n",
        "    )\n",
        "    c3: complex = (kappa_v - rho * sigma_v * u * 1j + c2) / (\n",
        "        kappa_v - rho * sigma_v * u * 1j - c2\n",
        "    )\n",
        "    H1: complex = r * u * 1j * T + (c1 / sigma_v**2) * (\n",
        "        (kappa_v - rho * sigma_v * u * 1j + c2) * T\n",
        "        - 2 * np.log((1 - c3 * np.exp(c2 * T)) / (1 - c3))\n",
        "    )\n",
        "    H2: complex = ((kappa_v - rho * sigma_v * u * 1j + c2) / sigma_v**2) * (\n",
        "        (1 - np.exp(c2 * T)) / (1 - c3 * np.exp(c2 * T))\n",
        "    )\n",
        "    char_func_value: complex = np.exp(H1 + H2 * v0)\n",
        "    return char_func_value\n",
        "\n",
        "def heston_integration_function(u: float, S0: float, K: float, T: float, r: float,\n",
        "                   kappa_v: float, theta_v: float, sigma_v: float,\n",
        "                   rho: float, v0: float) -> float:\n",
        "    \"\"\"\n",
        "    Fourier-based approach for Lewis (2001): Integration function.\n",
        "    \"\"\"\n",
        "    # Shiftting u to obtain the appropriate integration variable char func.\n",
        "    char_func_value: complex = Heston_characteristic_function(\n",
        "        u - 1j * 0.5, T, r, kappa_v, theta_v, sigma_v, rho, v0\n",
        "    )\n",
        "    integrand: complex = np.exp(1j * u * np.log(S0 / K)) * char_func_value\n",
        "    int_func_value: float = (1 / (u**2 + 0.25)) * integrand.real\n",
        "    return int_func_value\n",
        "\n",
        "def heston_call(S0: float, K: float, T: float, r: float,\n",
        "                   kappa_v: float, theta_v: float, sigma_v: float,\n",
        "                   rho: float, v0: float) -> float:\n",
        "    \"\"\"\n",
        "    Valuation of European call option in H93 model via Lewis (2001)\n",
        "\n",
        "    Parameter definition:\n",
        "    ==========\n",
        "    S0: float\n",
        "        initial stock/index level\n",
        "    K: float\n",
        "        strike price\n",
        "    T: float\n",
        "        time-to-maturity (for t=0)\n",
        "    r: float\n",
        "        constant risk-free short rate\n",
        "    kappa_v: float\n",
        "        mean-reversion factor\n",
        "    theta_v: float\n",
        "        long-run mean of variance\n",
        "    sigma_v: float\n",
        "        volatility of variance\n",
        "    rho: float\n",
        "        correlation between variance and stock/index level\n",
        "    v0: float\n",
        "        initial level of variance\n",
        "\n",
        "    Returns\n",
        "    =======\n",
        "    call_value: float\n",
        "        present value of European call option\n",
        "    \"\"\"\n",
        "    int_value: float = quad(\n",
        "        lambda u: heston_integration_function(u, S0, K, T, r, kappa_v, theta_v, sigma_v, rho, v0),\n",
        "        0,\n",
        "        np.inf,\n",
        "        limit=250,\n",
        "    )[0]\n",
        "    call_value: float = max(0, S0 - np.exp(-r * T) * np.sqrt(S0 * K) / np.pi * int_value)\n",
        "    return call_value\n"
      ],
      "metadata": {
        "id": "UQ2wXYAEBPx3"
      },
      "execution_count": null,
      "outputs": []
    },
    {
      "cell_type": "code",
      "source": [
        "# Option Parameters\n",
        "S0 = 80.0       # Initial stock price\n",
        "K = 110.0       # Strike price of the option\n",
        "T = 0.5         # Time to expiration in years\n",
        "r = 0.02        # Risk-free interest rate\n",
        "\n",
        "# Heston(1993) Parameters\n",
        "kappa_v = 1.5   # Speed of mean reversion for volatility\n",
        "theta_v = 0.02  # Long-term average volatility\n",
        "sigma_v = 0.75  # Volatility of volatility (how much volatility fluctuates)\n",
        "rho = 0.1       # Correlation between stock price and volatility\n",
        "v0 = 0.01       # Initial variance (starting volatility squared)"
      ],
      "metadata": {
        "id": "FaXFzfvtf74h"
      },
      "execution_count": null,
      "outputs": []
    },
    {
      "cell_type": "code",
      "source": [
        "print(f\"Heston (1993) Call Option Value: {heston_call(S0, K, T, r, kappa_v, theta_v, sigma_v, rho, v0)}\")"
      ],
      "metadata": {
        "colab": {
          "base_uri": "https://localhost:8080/"
        },
        "id": "2ktjJkgeC2av",
        "outputId": "827f9fab-f330-423c-c597-8e9e80084256"
      },
      "execution_count": null,
      "outputs": [
        {
          "output_type": "stream",
          "name": "stdout",
          "text": [
            "Heston (1993) Call Option Value: 0.0663405482251136\n"
          ]
        }
      ]
    },
    {
      "cell_type": "code",
      "source": [
        "def merton_characteristic_function(u: Number, T: float, r: float, sigma: float,\n",
        "                                     lamb: float, mu: float, delta: float) -> complex:\n",
        "    \"\"\"\n",
        "    Characteristic function for Merton '76 model.\n",
        "\n",
        "    Parameters:\n",
        "    -----------\n",
        "    u : Number\n",
        "        Complex or real argument.\n",
        "    T : float\n",
        "        Time-to-maturity.\n",
        "    r : float\n",
        "        Risk-free interest rate.\n",
        "    sigma : float\n",
        "        Diffusion volatility.\n",
        "    lamb : float\n",
        "        Jump intensity.\n",
        "    mu : float\n",
        "        Mean of jump size.\n",
        "    delta : float\n",
        "        Standard deviation of jump size.\n",
        "\n",
        "    Returns:\n",
        "    --------\n",
        "    complex\n",
        "        The value of the characteristic function.\n",
        "    \"\"\"\n",
        "    omega: float = r - 0.5 * sigma**2 - lamb * (np.exp(mu + 0.5 * delta**2) - 1)\n",
        "    char_func_value: complex = np.exp(\n",
        "        (\n",
        "            1j * u * omega\n",
        "            - 0.5 * u**2 * sigma**2\n",
        "            + lamb * (np.exp(1j * u * mu - 0.5 * u**2 * delta**2) - 1)\n",
        "        )\n",
        "        * T\n",
        "    )\n",
        "    return char_func_value\n",
        "\n",
        "def merton_integration_function(u: float, S0: float, K: float, T: float, r: float,\n",
        "                                 sigma: float, lamb: float, mu: float, delta: float) -> float:\n",
        "    \"\"\"\n",
        "    Integral function for Lewis (2001) under the Merton '76 characteristic function.\n",
        "\n",
        "    Parameters:\n",
        "    -----------\n",
        "    u : float\n",
        "        Integration variable.\n",
        "    S0 : float\n",
        "        Initial stock price.\n",
        "    K : float\n",
        "        Strike price.\n",
        "    T : float\n",
        "        Time-to-maturity.\n",
        "    r : float\n",
        "        Risk-free interest rate.\n",
        "    sigma : float\n",
        "        Diffusion volatility.\n",
        "    lamb : float\n",
        "        Jump intensity.\n",
        "    mu : float\n",
        "        Mean of jump size.\n",
        "    delta : float\n",
        "        Standard deviation of jump size.\n",
        "\n",
        "    Returns:\n",
        "    --------\n",
        "    float\n",
        "        The value of the integrand.\n",
        "    \"\"\"\n",
        "    # Adjust the integration var for the char function.\n",
        "    char_func: complex = merton_characteristic_function(u - 0.5 * 1j, T, r, sigma, lamb, mu, delta)\n",
        "    integrand: complex = np.exp(1j * u * np.log(S0 / K)) * char_func\n",
        "    value: float = (1 / (u**2 + 0.25)) * integrand.real\n",
        "    return value\n",
        "\n",
        "def merton_call_value(S0: float, K: float, T: float, r: float, sigma: float,\n",
        "                      lamb: float, mu: float, delta: float) -> float:\n",
        "    \"\"\"\n",
        "    Value of a European call option under the Merton '76 jump diffusion model\n",
        "    using Lewis (2001) Fourier-based approach.\n",
        "\n",
        "    Parameters:\n",
        "    -----------\n",
        "    S0 : float\n",
        "        Initial stock price.\n",
        "    K : float\n",
        "        Strike price.\n",
        "    T : float\n",
        "        Time-to-maturity.\n",
        "    r : float\n",
        "        Risk-free interest rate.\n",
        "    sigma : float\n",
        "        Diffusion volatility.\n",
        "    lamb : float\n",
        "        Jump intensity.\n",
        "    mu : float\n",
        "        Mean of jump size.\n",
        "    delta : float\n",
        "        Standard deviation of jump size.\n",
        "\n",
        "    Returns:\n",
        "    --------\n",
        "    float\n",
        "        Present value of the European call option.\n",
        "    \"\"\"\n",
        "    int_value: float = quad(\n",
        "        lambda u: merton_integration_function(u, S0, K, T, r, sigma, lamb, mu, delta),\n",
        "        0,\n",
        "        50,\n",
        "        limit=250,\n",
        "    )[0]\n",
        "\n",
        "    call_value: float = max(0, S0 - np.exp(-r * T) * np.sqrt(S0 * K) / np.pi * int_value)\n",
        "    return call_value"
      ],
      "metadata": {
        "id": "Lv_bO0L9C4n0"
      },
      "execution_count": null,
      "outputs": []
    },
    {
      "cell_type": "code",
      "source": [
        "# Option Parameters\n",
        "S0 = 100        # Initial stock price\n",
        "K = 100         # Strike price of the option\n",
        "T = 1           # Time to expiration in years\n",
        "r = 0.05        # Risk-free interest rate\n",
        "\n",
        "# Merton Parameters\n",
        "sigma = 0.4     # Volatility of the diffusion part (continuous price movement)\n",
        "lamb = 1        # Jump intensity (average number of jumps per year)\n",
        "mu = -0.2       # Average jump size (log-return of jumps)\n",
        "delta = 0.1     # Standard deviation of jump size"
      ],
      "metadata": {
        "id": "pJmvYO6bgNw2"
      },
      "execution_count": null,
      "outputs": []
    },
    {
      "cell_type": "code",
      "source": [
        "print(f\"Value of the Call option under Merton (1976): {merton_call_value(S0, K, T, r, sigma, lamb, mu, delta)}\")"
      ],
      "metadata": {
        "colab": {
          "base_uri": "https://localhost:8080/"
        },
        "id": "rsz2lzVMDtwH",
        "outputId": "dff3a2ca-9ad5-4cea-eb69-0a86bd585026"
      },
      "execution_count": null,
      "outputs": [
        {
          "output_type": "stream",
          "name": "stdout",
          "text": [
            "Value of the Call option under Merton (1976): 19.947853881446505\n"
          ]
        }
      ]
    },
    {
      "cell_type": "code",
      "source": [],
      "metadata": {
        "id": "fi7pErx2Dwti"
      },
      "execution_count": null,
      "outputs": []
    },
    {
      "cell_type": "code",
      "source": [],
      "metadata": {
        "id": "OpjTxbnYEb8P"
      },
      "execution_count": null,
      "outputs": []
    },
    {
      "cell_type": "code",
      "source": [
        "import numpy as np\n",
        "import pandas as pd\n",
        "from typing import Callable\n",
        "from numpy.typing import NDArray\n",
        "\n",
        "def calibration_error_function(\n",
        "    p0: NDArray[np.float_],\n",
        "    S0: float,\n",
        "    options: pd.DataFrame,\n",
        "    call_value_func: Callable[[float, float, float, float, ...], float]\n",
        ") -> float:\n",
        "    \"\"\"\n",
        "    Generic calibration error function for option pricing models (e.g., Heston and Merton).\n",
        "\n",
        "    Parameters\n",
        "    ----------\n",
        "    p0 : NDArray[np.float_]\n",
        "        Model parameter vector. Its elements should match the parameters expected by call_value_func.\n",
        "    S0 : float\n",
        "        Current underlying asset price.\n",
        "    options : pd.DataFrame\n",
        "        Market option data with columns:\n",
        "            'Strike': Strike price,\n",
        "            'T': Time-to-maturity,\n",
        "            'r': Risk-free rate,\n",
        "            'Call': Observed market call option price.\n",
        "    call_value_func : Callable\n",
        "        A function that computes the model call option price. Its signature must be:\n",
        "            call_value_func(S0: float, K: float, T: float, r: float, *params) -> float\n",
        "\n",
        "    Returns\n",
        "    -------\n",
        "    float\n",
        "        The root mean squared error (RMSE) between the model prices and market prices.\n",
        "    \"\"\"\n",
        "    squared_errors = []\n",
        "    for _, row in options.iterrows():\n",
        "        model_price = call_value_func(S0, row[\"Strike\"], row[\"T\"], row[\"r\"], *p0)\n",
        "        squared_errors.append((model_price - row[\"Call\"]) ** 2)\n",
        "    rmse = np.sqrt(np.mean(squared_errors))\n",
        "    return rmse\n"
      ],
      "metadata": {
        "id": "cC08wxVZEcQO"
      },
      "execution_count": null,
      "outputs": []
    },
    {
      "cell_type": "code",
      "source": [
        "def merton_calibration_full(S0: float, options: pd.DataFrame) -> NDArray[np.float_]:\n",
        "    \"\"\"\n",
        "    Calibrates the Merton (1976) jump diffusion model to market quotes using a two-step\n",
        "    procedure: a global brute-force search followed by local minimization.\n",
        "\n",
        "    Parameters\n",
        "    ----------\n",
        "    S0 : float\n",
        "        The current underlying asset price.\n",
        "    options : pd.DataFrame\n",
        "        Market option data. Expected columns are:\n",
        "            'Strike': strike price,\n",
        "            'T': time-to-maturity,\n",
        "            'r': risk-free interest rate,\n",
        "            'Call': observed market call option price.\n",
        "\n",
        "    Returns\n",
        "    -------\n",
        "    NDArray[np.float_]\n",
        "        Optimized parameter vector [sigma, lamb, mu, delta].\n",
        "    \"\"\"\n",
        "    # Defining error function wrapper for Merton model.\n",
        "    def error_function_merton(p: NDArray[np.float_]) -> float:\n",
        "        return calibration_error_function(p, S0, options, merton_call_value)\n",
        "\n",
        "    # Global search with brute force. The slices define the search ranges and step sizes:\n",
        "    ranges = (\n",
        "        slice(0.075, 0.201, 0.025),   # sigma: from 0.075 to 0.201 in steps of 0.025\n",
        "        slice(0.10, 0.401, 0.1),      # lamb: from 0.10 to 0.401 in steps of 0.1\n",
        "        slice(-0.5, 0.01, 0.1),       # mu: from -0.5 to 0.01 in steps of 0.1\n",
        "        slice(0.10, 0.301, 0.1),      # delta: from 0.10 to 0.301 in steps of 0.1\n",
        "    )\n",
        "    p0: NDArray[np.float_] = brute(error_function_merton, ranges, finish=None)\n",
        "\n",
        "    # Local search using fmin to refine the solution.\n",
        "    opt: NDArray[np.float_] = fmin(\n",
        "        error_function_merton, p0, xtol=0.0001, ftol=0.0001, maxiter=550, maxfun=1050, disp=True\n",
        "    )\n",
        "    return opt"
      ],
      "metadata": {
        "id": "o6chVlgoEcz0"
      },
      "execution_count": null,
      "outputs": []
    },
    {
      "cell_type": "code",
      "source": [],
      "metadata": {
        "id": "h4mDdUgSE0it"
      },
      "execution_count": null,
      "outputs": []
    },
    {
      "cell_type": "code",
      "source": [
        "# # Option Parameters\n",
        "# S0 = 100.0\n",
        "# K = 100.0\n",
        "# T = 1.0\n",
        "# r = 0.02\n",
        "\n",
        "# # Heston(1993) Parameters\n",
        "# kappa_v = 1.5\n",
        "# theta_v = 0.02\n",
        "# sigma_v = 0.15\n",
        "# rho = 0.1\n",
        "# v0 = 0.01\n",
        "\n",
        "# # Calculate the Heston call price\n",
        "# heston_price = OptionPricingLibrary.heston_call_value(S0, K, T, r, kappa_v, theta_v, sigma_v, rho, v0)\n",
        "# print(\"Heston Call Price:\", heston_price)\n"
      ],
      "metadata": {
        "id": "5mrdNoSoI5UG"
      },
      "execution_count": null,
      "outputs": []
    },
    {
      "cell_type": "code",
      "source": [
        "Number = Union[float, int, complex]\n",
        "\n",
        "class OptionPricingLibraryHestonMetron:\n",
        "    _r: float\n",
        "    _S0: float\n",
        "    _K: float\n",
        "    _T: float\n",
        "\n",
        "    def __new__(self, r: float, S0: float, K: float, T: float) -> Self:\n",
        "        self = super().__new__(self)\n",
        "        self._r = r\n",
        "        self._S0 = S0\n",
        "        self._K = K\n",
        "        self._T = T\n",
        "        return self\n",
        "\n",
        "    def heston_characteristic_function(self, u: Number, kappa_v: float,\n",
        "                                         theta_v: float, sigma_v: float, rho: float, v0: float) -> complex:\n",
        "        \"\"\"\n",
        "        Heston characteristic function (Fourier domain) for the European call option.\n",
        "        \"\"\"\n",
        "        c1: float = kappa_v * theta_v\n",
        "        c2: complex = -np.sqrt((rho * sigma_v * u * 1j - kappa_v) ** 2 - sigma_v**2 * (-u * 1j - u**2))\n",
        "        c3: complex = (kappa_v - rho * sigma_v * u * 1j + c2) / (kappa_v - rho * sigma_v * u * 1j - c2)\n",
        "        H1: complex = self._r * u * 1j * self._T + (c1 / sigma_v**2) * (\n",
        "            (kappa_v - rho * sigma_v * u * 1j + c2) * self._T\n",
        "            - 2 * np.log((1 - c3 * np.exp(c2 * self._T)) / (1 - c3))\n",
        "        )\n",
        "        H2: complex = ((kappa_v - rho * sigma_v * u * 1j + c2) / sigma_v**2) * (\n",
        "            (1 - np.exp(c2 * self._T)) / (1 - c3 * np.exp(c2 * self._T))\n",
        "        )\n",
        "        return np.exp(H1 + H2 * v0)\n",
        "\n",
        "    def heston_integration_function(self, u: float,\n",
        "                                     kappa_v: float, theta_v: float, sigma_v: float, rho: float, v0: float) -> float:\n",
        "        \"\"\"\n",
        "        Integration function for the Heston model (Lewis 2001 approach).\n",
        "        \"\"\"\n",
        "        # Note: Adjust the shift by 0.5*1j in the argument\n",
        "        char_func: complex = self.heston_characteristic_function(u - 0.5 * 1j, kappa_v, theta_v, sigma_v, rho, v0)\n",
        "        integrand: complex = np.exp(1j * u * np.log(self._S0 / self._K)) * char_func\n",
        "        return (1 / (u**2 + 0.25)) * integrand.real\n",
        "\n",
        "    def heston_call_value(self, kappa_v: float,\n",
        "                          theta_v: float, sigma_v: float, rho: float, v0: float) -> float:\n",
        "        \"\"\"\n",
        "        Price of a European call option using the Heston model.\n",
        "        \"\"\"\n",
        "        int_value: float = quad(\n",
        "            lambda u: self.heston_integration_function(u, kappa_v, theta_v, sigma_v, rho, v0),\n",
        "            0,\n",
        "            np.inf,\n",
        "            limit=250,\n",
        "        )[0]\n",
        "        call_value: float = max(0, self._S0 - np.exp(-self._r * self._T) * np.sqrt(self._S0 * self._K) / np.pi * int_value)\n",
        "        return call_value\n",
        "\n",
        "    def merton_characteristic_function(self, u: Number, sigma: float,\n",
        "                                         lamb: float, mu: float, delta: float) -> complex:\n",
        "        \"\"\"\n",
        "        Merton (1976) characteristic function for the European call option.\n",
        "        \"\"\"\n",
        "        omega: float = self._r - 0.5 * sigma**2 - lamb * (np.exp(mu + 0.5 * delta**2) - 1)\n",
        "        return np.exp(\n",
        "            (\n",
        "                1j * u * omega\n",
        "                - 0.5 * u**2 * sigma**2\n",
        "                + lamb * (np.exp(1j * u * mu - 0.5 * u**2 * delta**2) - 1)\n",
        "            )\n",
        "            * self._T\n",
        "        )\n",
        "\n",
        "    def merton_integration_function(self, u: float,\n",
        "                                     sigma: float, lamb: float, mu: float, delta: float) -> float:\n",
        "        \"\"\"\n",
        "        Integration function for the Merton model (Lewis 2001 approach).\n",
        "        \"\"\"\n",
        "        char_func: complex = self.merton_characteristic_function(u - 0.5 * 1j, sigma, lamb, mu, delta)\n",
        "        integrand: complex = np.exp(1j * u * np.log(self._S0 / self._K)) * char_func\n",
        "        return (1 / (u**2 + 0.25)) * integrand.real\n",
        "\n",
        "    def merton_call_value(self, sigma: float,\n",
        "                          lamb: float, mu: float, delta: float) -> float:\n",
        "        \"\"\"\n",
        "        Price of a European call option using the Merton jump diffusion model.\n",
        "        \"\"\"\n",
        "        int_value: float = quad(\n",
        "            lambda u: self.merton_integration_function(u, sigma, lamb, mu, delta),\n",
        "            0,\n",
        "            50,\n",
        "            limit=250,\n",
        "        )[0]\n",
        "        call_value: float = max(0, self._S0 - np.exp(-self._r * self._T) * np.sqrt(self._S0 * self._K) / np.pi * int_value)\n",
        "        return call_value\n",
        "\n",
        "    def calibration_error_function(self, p0: NDArray[np.float_], options: pd.DataFrame,\n",
        "                                   call_value_func: Callable[..., float]) -> float:\n",
        "        \"\"\"\n",
        "        Generic calibration error function that computes the RMSE between model and market call prices.\n",
        "\n",
        "        Parameters:\n",
        "        -----------\n",
        "        p0 : NDArray[np.float_]\n",
        "            The parameter vector for the model.\n",
        "        options : pd.DataFrame\n",
        "            A DataFrame with market option data. Expected columns:\n",
        "            'Strike', 'T', 'r', and 'Call'.\n",
        "        call_value_func : Callable[..., float]\n",
        "            The option pricing function (e.g., merton_call_value or heston_call_value).\n",
        "\n",
        "        Returns:\n",
        "        --------\n",
        "        float\n",
        "            The RMSE of the model prices relative to market prices.\n",
        "        \"\"\"\n",
        "        squared_errors = []\n",
        "        for _, row in options.iterrows():\n",
        "\n",
        "            model_price: float = call_value_func(\n",
        "                sigma=p0[0],\n",
        "                lamb=p0[1],\n",
        "                mu=p0[2],\n",
        "                delta=p0[3]\n",
        "            ) if call_value_func.__name__ == 'merton_call_value' else call_value_func(\n",
        "                kappa_v=p0[0],\n",
        "                theta_v=p0[1],\n",
        "                sigma_v=p0[2],\n",
        "                rho=p0[3],\n",
        "                v0=p0[4]\n",
        "            )\n",
        "            squared_errors.append((model_price - row[\"Call\"]) ** 2)\n",
        "        rmse: float = np.sqrt(np.mean(squared_errors))\n",
        "        return rmse\n",
        "\n",
        "    def calibrate_merton(self, options: pd.DataFrame) -> NDArray[np.float_]:\n",
        "        \"\"\"\n",
        "        Calibrates the Merton (1976) jump diffusion model to market quotes using a two-step\n",
        "        procedure: a global grid search followed by local minimization.\n",
        "\n",
        "        Parameters:\n",
        "        -----------\n",
        "        options : pd.DataFrame\n",
        "            Market option data. Expected columns: 'Strike', 'T', 'r', and 'Call'.\n",
        "\n",
        "        Returns:\n",
        "        --------\n",
        "        NDArray[np.float_]\n",
        "            The optimized parameter vector [sigma, lamb, mu, delta].\n",
        "        \"\"\"\n",
        "        def error_function(p: NDArray[np.float_]) -> float:\n",
        "            return self.calibration_error_function(p, options, self.merton_call_value)\n",
        "\n",
        "        # Global search over specified ranges for [sigma, lamb, mu, delta]\n",
        "        ranges = (\n",
        "            slice(0.075, 0.201, 0.025),  # sigma\n",
        "            slice(0.10, 0.401, 0.1),      # lamb\n",
        "            slice(-0.5, 0.01, 0.1),       # mu\n",
        "            slice(0.10, 0.301, 0.1),      # delta\n",
        "        )\n",
        "        p0: NDArray[np.float_] = brute(error_function, ranges, finish=None)\n",
        "        opt: NDArray[np.float_] = fmin(\n",
        "            error_function, p0, xtol=0.0001, ftol=0.0001, maxiter=550, maxfun=1050, disp=True\n",
        "        )\n",
        "        return opt\n",
        "\n"
      ],
      "metadata": {
        "id": "UW_qyCwrJKp-"
      },
      "execution_count": null,
      "outputs": []
    },
    {
      "cell_type": "code",
      "source": [
        "# Option Parameters\n",
        "S0 = 100.0      # Initial stock price\n",
        "K = 100.0       # Strike price of the option\n",
        "T = 1.0         # Time to expiration in years\n",
        "r = 0.02        # Risk-free interest rate\n",
        "\n",
        "# Heston(1993) Parameters\n",
        "kappa_v = 1.5   # Speed of mean reversion for volatility\n",
        "theta_v = 0.02  # Long-term average volatility\n",
        "sigma_v = 0.15  # Volatility of volatility (how much volatility fluctuates)\n",
        "rho = 0.1       # Correlation between stock price and volatility\n",
        "v0 = 0.01       # Initial variance (starting volatility squared)\n",
        "\n",
        "\n",
        "pricing_lib = OptionPricingLibraryHestonMetron(r, S0, K, T)\n",
        "\n",
        "heston_price = pricing_lib.heston_call_value(kappa_v, theta_v, sigma_v, rho, v0)\n",
        "print(\"Heston Call Price:\", heston_price)\n"
      ],
      "metadata": {
        "colab": {
          "base_uri": "https://localhost:8080/"
        },
        "id": "4ba1pMMbMw1J",
        "outputId": "40dfb5a3-fe97-49df-b29e-42f5fc3790dc"
      },
      "execution_count": null,
      "outputs": [
        {
          "output_type": "stream",
          "name": "stdout",
          "text": [
            "Heston Call Price: 5.757807070918929\n"
          ]
        }
      ]
    },
    {
      "cell_type": "code",
      "source": [
        "# Option Parameters\n",
        "S0 = 100        # Initial stock price\n",
        "K = 100         # Strike price of the option\n",
        "T = 1           # Time to expiration in years\n",
        "r = 0.05        # Risk-free interest rate\n",
        "\n",
        "# Merton Parameters\n",
        "sigma = 0.4     # Volatility of the diffusion part (continuous price movement)\n",
        "lamb = 1        # Jump intensity (average number of jumps per year)\n",
        "mu = -0.2       # Average jump size (log-return of jumps)\n",
        "delta = 0.1     # Standard deviation of jump size\n",
        "\n",
        "pricing_lib = OptionPricingLibraryHestonMetron(r, S0, K, T)\n",
        "\n",
        "merton_price = pricing_lib.merton_call_value(sigma, lamb, mu, delta)\n",
        "print(\"Merton Call Price:\", merton_price)\n"
      ],
      "metadata": {
        "colab": {
          "base_uri": "https://localhost:8080/"
        },
        "id": "40fDNxyqNBsK",
        "outputId": "92122a35-b311-4f4a-81ca-0b4ba2b3aadb"
      },
      "execution_count": null,
      "outputs": [
        {
          "output_type": "stream",
          "name": "stdout",
          "text": [
            "Merton Call Price: 19.947853881446505\n"
          ]
        }
      ]
    },
    {
      "cell_type": "code",
      "source": [],
      "metadata": {
        "id": "Ocyp3dg8NKPs"
      },
      "execution_count": null,
      "outputs": []
    },
    {
      "cell_type": "markdown",
      "source": [],
      "metadata": {
        "id": "Zb5g2Ng0QV2z"
      }
    },
    {
      "cell_type": "markdown",
      "source": [
        "Bates:"
      ],
      "metadata": {
        "id": "807WXVHTQWAS"
      }
    },
    {
      "cell_type": "code",
      "source": [
        "# Bates (1996) via Lewis (2001)\n",
        "render_latex(r\"\"\"\n",
        "\\textbf{Bates (1996) via Lewis (2001)} \\\\[30pt]\n",
        "\n",
        "\\text{Risk-Neutral Dynamics} \\\\[20pt]\n",
        "dS_t = (r_t - r_J) S_t \\, dt + \\sqrt{\\nu_t} S_t \\, dZ_t^1 + J_t S_t \\, dN_t \\\\[15pt]\n",
        "d\\nu_t = \\kappa_\\nu (\\theta_\\nu - \\nu_t) \\, dt + \\sigma_\\nu \\sqrt{\\nu_t} \\, dZ_t^2 \\\\[20pt]\n",
        "\n",
        "\\text{Lewis (2001) Pricing Formula} \\\\[20pt]\n",
        "C_0 = S_0 - \\frac{\\sqrt{S_0 K} e^{-r T}}{\\pi} \\int_0^\\infty \\text{Re} \\left[ \\frac{e^{i z k} \\phi_{B96}(z - i/2, T)}{z^2 + \\frac{1}{4}} \\right] dz \\\\[15pt]\n",
        "k = \\log \\left( \\frac{S_0}{K} \\right) \\\\[20pt]\n",
        "\n",
        "\\text{Bates Characteristic Function} \\\\[20pt]\n",
        "\\phi_{B96}(u, T) = \\phi_{H93}(u, T) \\cdot \\phi_{M76J}(u, T) \\\\[20pt]\n",
        "\\phi_{H93}(u, T) = e^{H_1(u, T) + H_2(u, T) \\nu_0} \\\\[15pt]\n",
        "H_1(u, T) = r_0 u i T + \\frac{c_1}{\\sigma_\\nu^2} \\left[ (\\kappa_\\nu - \\rho \\sigma_\\nu u i + c_2) T - 2 \\log \\left( \\frac{1 - c_3 e^{c_2 T}}{1 - c_3} \\right) \\right] \\\\[15pt]\n",
        "H_2(u, T) = \\frac{\\kappa_\\nu - \\rho \\sigma_\\nu u i + c_2}{\\sigma_\\nu^2} \\frac{1 - e^{c_2 T}}{1 - c_3 e^{c_2 T}} \\\\[15pt]\n",
        "c_1 = \\kappa_\\nu \\theta_\\nu \\\\[10pt]\n",
        "c_2 = -\\sqrt{(\\rho \\sigma_\\nu u i - \\kappa_\\nu)^2 - \\sigma_\\nu^2 (-u i - u^2)} \\\\[10pt]\n",
        "c_3 = \\frac{\\kappa_\\nu - \\rho \\sigma_\\nu u i + c_2}{\\kappa_\\nu - \\rho \\sigma_\\nu u i - c_2} \\\\[20pt]\n",
        "\\phi_{M76J}(u, T) = e^{i u \\omega T + \\lambda T \\left( e^{i u \\mu_J - \\frac{u^2 \\delta^2}{2}} - 1 \\right)} \\\\[15pt]\n",
        "\\omega = -\\lambda \\left( e^{\\mu_J + \\frac{\\delta^2}{2}} - 1 \\right) \\\\[20pt]\n",
        "\n",
        "\\text{Final Expression} \\\\[20pt]\n",
        "\\phi_{B96}(z - i/2, T) = \\phi_{H93}(z - i/2, T) \\cdot \\phi_{M76J}(z - i/2, T) \\\\[15pt]\n",
        "C_0 = S_0 - \\frac{\\sqrt{S_0 K} e^{-r T}}{\\pi} \\int_0^\\infty \\text{Re} \\left[ \\frac{e^{i z k} \\phi_{H93}(z - i/2, T) \\phi_{M76J}(z - i/2, T)}{z^2 + \\frac{1}{4}} \\right] dz\n",
        "\"\"\")"
      ],
      "metadata": {
        "colab": {
          "base_uri": "https://localhost:8080/",
          "height": 1000
        },
        "id": "3NwLHZqVQXpz",
        "outputId": "3811c970-2f36-404e-dd6a-25d7eefca19f"
      },
      "execution_count": null,
      "outputs": [
        {
          "output_type": "display_data",
          "data": {
            "text/plain": [
              "<IPython.core.display.Math object>"
            ],
            "text/latex": "$\\displaystyle \n\\textbf{Bates (1996) via Lewis (2001)} \\\\[30pt]\n\n\\text{Risk-Neutral Dynamics} \\\\[20pt]\ndS_t = (r_t - r_J) S_t \\, dt + \\sqrt{\\nu_t} S_t \\, dZ_t^1 + J_t S_t \\, dN_t \\\\[15pt]\nd\\nu_t = \\kappa_\\nu (\\theta_\\nu - \\nu_t) \\, dt + \\sigma_\\nu \\sqrt{\\nu_t} \\, dZ_t^2 \\\\[20pt]\n\n\\text{Lewis (2001) Pricing Formula} \\\\[20pt]\nC_0 = S_0 - \\frac{\\sqrt{S_0 K} e^{-r T}}{\\pi} \\int_0^\\infty \\text{Re} \\left[ \\frac{e^{i z k} \\phi_{B96}(z - i/2, T)}{z^2 + \\frac{1}{4}} \\right] dz \\\\[15pt]\nk = \\log \\left( \\frac{S_0}{K} \\right) \\\\[20pt]\n\n\\text{Bates Characteristic Function} \\\\[20pt]\n\\phi_{B96}(u, T) = \\phi_{H93}(u, T) \\cdot \\phi_{M76J}(u, T) \\\\[20pt]\n\\phi_{H93}(u, T) = e^{H_1(u, T) + H_2(u, T) \\nu_0} \\\\[15pt]\nH_1(u, T) = r_0 u i T + \\frac{c_1}{\\sigma_\\nu^2} \\left[ (\\kappa_\\nu - \\rho \\sigma_\\nu u i + c_2) T - 2 \\log \\left( \\frac{1 - c_3 e^{c_2 T}}{1 - c_3} \\right) \\right] \\\\[15pt]\nH_2(u, T) = \\frac{\\kappa_\\nu - \\rho \\sigma_\\nu u i + c_2}{\\sigma_\\nu^2} \\frac{1 - e^{c_2 T}}{1 - c_3 e^{c_2 T}} \\\\[15pt]\nc_1 = \\kappa_\\nu \\theta_\\nu \\\\[10pt]\nc_2 = -\\sqrt{(\\rho \\sigma_\\nu u i - \\kappa_\\nu)^2 - \\sigma_\\nu^2 (-u i - u^2)} \\\\[10pt]\nc_3 = \\frac{\\kappa_\\nu - \\rho \\sigma_\\nu u i + c_2}{\\kappa_\\nu - \\rho \\sigma_\\nu u i - c_2} \\\\[20pt]\n\\phi_{M76J}(u, T) = e^{i u \\omega T + \\lambda T \\left( e^{i u \\mu_J - \\frac{u^2 \\delta^2}{2}} - 1 \\right)} \\\\[15pt]\n\\omega = -\\lambda \\left( e^{\\mu_J + \\frac{\\delta^2}{2}} - 1 \\right) \\\\[20pt]\n\n\\text{Final Expression} \\\\[20pt]\n\\phi_{B96}(z - i/2, T) = \\phi_{H93}(z - i/2, T) \\cdot \\phi_{M76J}(z - i/2, T) \\\\[15pt]\nC_0 = S_0 - \\frac{\\sqrt{S_0 K} e^{-r T}}{\\pi} \\int_0^\\infty \\text{Re} \\left[ \\frac{e^{i z k} \\phi_{H93}(z - i/2, T) \\phi_{M76J}(z - i/2, T)}{z^2 + \\frac{1}{4}} \\right] dz\n$"
          },
          "metadata": {}
        }
      ]
    },
    {
      "cell_type": "code",
      "source": [
        "# Bates (1996) via Carr-Madan (1999)\n",
        "render_latex(r\"\"\"\n",
        "\\textbf{Bates (1996) via Carr-Madan (1999)} \\\\[30pt]\n",
        "\n",
        "\\text{Risk-Neutral Dynamics} \\\\[20pt]\n",
        "dS_t = (r_t - r_J) S_t \\, dt + \\sqrt{\\nu_t} S_t \\, dZ_t^1 + J_t S_t \\, dN_t \\\\[15pt]\n",
        "d\\nu_t = \\kappa_\\nu (\\theta_\\nu - \\nu_t) \\, dt + \\sigma_\\nu \\sqrt{\\nu_t} \\, dZ_t^2 \\\\[20pt]\n",
        "\n",
        "\\text{Carr-Madan (1999) Pricing Formula} \\\\[20pt]\n",
        "C_0 = \\frac{e^{-\\alpha k}}{\\pi} \\int_0^\\infty e^{-i \\nu k} \\frac{e^{-r T} \\phi_{B96}(\\nu - (\\alpha + 1)i, T)}{\\alpha^2 + \\alpha - \\nu^2 + i (2\\alpha + 1) \\nu} \\, d\\nu \\\\[15pt]\n",
        "k = \\log K \\\\[20pt]\n",
        "\n",
        "\\text{Bates Characteristic Function} \\\\[20pt]\n",
        "\\phi_{B96}(u, T) = \\phi_{H93}(u, T) \\cdot \\phi_{M76J}(u, T) \\\\[20pt]\n",
        "\\phi_{H93}(u, T) = e^{H_1(u, T) + H_2(u, T) \\nu_0} \\\\[15pt]\n",
        "H_1(u, T) = r_0 u i T + \\frac{c_1}{\\sigma_\\nu^2} \\left[ (\\kappa_\\nu - \\rho \\sigma_\\nu u i + c_2) T - 2 \\log \\left( \\frac{1 - c_3 e^{c_2 T}}{1 - c_3} \\right) \\right] \\\\[15pt]\n",
        "H_2(u, T) = \\frac{\\kappa_\\nu - \\rho \\sigma_\\nu u i + c_2}{\\sigma_\\nu^2} \\frac{1 - e^{c_2 T}}{1 - c_3 e^{c_2 T}} \\\\[15pt]\n",
        "c_1 = \\kappa_\\nu \\theta_\\nu \\\\[10pt]\n",
        "c_2 = -\\sqrt{(\\rho \\sigma_\\nu u i - \\kappa_\\nu)^2 - \\sigma_\\nu^2 (-u i - u^2)} \\\\[10pt]\n",
        "c_3 = \\frac{\\kappa_\\nu - \\rho \\sigma_\\nu u i + c_2}{\\kappa_\\nu - \\rho \\sigma_\\nu u i - c_2} \\\\[20pt]\n",
        "\\phi_{M76J}(u, T) = e^{i u \\omega T + \\lambda T \\left( e^{i u \\mu_J - \\frac{u^2 \\delta^2}{2}} - 1 \\right)} \\\\[15pt]\n",
        "\\omega = -\\lambda \\left( e^{\\mu_J + \\frac{\\delta^2}{2}} - 1 \\right) \\\\[20pt]\n",
        "\n",
        "\\text{Final Expression} \\\\[20pt]\n",
        "\\phi_{B96}(\\nu - (\\alpha + 1)i, T) = \\phi_{H93}(\\nu - (\\alpha + 1)i, T) \\cdot \\phi_{M76J}(\\nu - (\\alpha + 1)i, T) \\\\[15pt]\n",
        "C_0 = \\frac{e^{-\\alpha k}}{\\pi} \\int_0^\\infty e^{-i \\nu k} \\frac{e^{-r T} \\phi_{H93}(\\nu - (\\alpha + 1)i, T) \\phi_{M76J}(\\nu - (\\alpha + 1)i, T)}{\\alpha^2 + \\alpha - \\nu^2 + i (2\\alpha + 1) \\nu} \\, d\\nu\n",
        "\"\"\")"
      ],
      "metadata": {
        "colab": {
          "base_uri": "https://localhost:8080/",
          "height": 1000
        },
        "id": "qo6sJ7fRQZAZ",
        "outputId": "030274ba-eeba-4040-b3e3-fca9e99ecd95"
      },
      "execution_count": null,
      "outputs": [
        {
          "output_type": "display_data",
          "data": {
            "text/plain": [
              "<IPython.core.display.Math object>"
            ],
            "text/latex": "$\\displaystyle \n\\textbf{Bates (1996) via Carr-Madan (1999)} \\\\[30pt]\n\n\\text{Risk-Neutral Dynamics} \\\\[20pt]\ndS_t = (r_t - r_J) S_t \\, dt + \\sqrt{\\nu_t} S_t \\, dZ_t^1 + J_t S_t \\, dN_t \\\\[15pt]\nd\\nu_t = \\kappa_\\nu (\\theta_\\nu - \\nu_t) \\, dt + \\sigma_\\nu \\sqrt{\\nu_t} \\, dZ_t^2 \\\\[20pt]\n\n\\text{Carr-Madan (1999) Pricing Formula} \\\\[20pt]\nC_0 = \\frac{e^{-\\alpha k}}{\\pi} \\int_0^\\infty e^{-i \\nu k} \\frac{e^{-r T} \\phi_{B96}(\\nu - (\\alpha + 1)i, T)}{\\alpha^2 + \\alpha - \\nu^2 + i (2\\alpha + 1) \\nu} \\, d\\nu \\\\[15pt]\nk = \\log K \\\\[20pt]\n\n\\text{Bates Characteristic Function} \\\\[20pt]\n\\phi_{B96}(u, T) = \\phi_{H93}(u, T) \\cdot \\phi_{M76J}(u, T) \\\\[20pt]\n\\phi_{H93}(u, T) = e^{H_1(u, T) + H_2(u, T) \\nu_0} \\\\[15pt]\nH_1(u, T) = r_0 u i T + \\frac{c_1}{\\sigma_\\nu^2} \\left[ (\\kappa_\\nu - \\rho \\sigma_\\nu u i + c_2) T - 2 \\log \\left( \\frac{1 - c_3 e^{c_2 T}}{1 - c_3} \\right) \\right] \\\\[15pt]\nH_2(u, T) = \\frac{\\kappa_\\nu - \\rho \\sigma_\\nu u i + c_2}{\\sigma_\\nu^2} \\frac{1 - e^{c_2 T}}{1 - c_3 e^{c_2 T}} \\\\[15pt]\nc_1 = \\kappa_\\nu \\theta_\\nu \\\\[10pt]\nc_2 = -\\sqrt{(\\rho \\sigma_\\nu u i - \\kappa_\\nu)^2 - \\sigma_\\nu^2 (-u i - u^2)} \\\\[10pt]\nc_3 = \\frac{\\kappa_\\nu - \\rho \\sigma_\\nu u i + c_2}{\\kappa_\\nu - \\rho \\sigma_\\nu u i - c_2} \\\\[20pt]\n\\phi_{M76J}(u, T) = e^{i u \\omega T + \\lambda T \\left( e^{i u \\mu_J - \\frac{u^2 \\delta^2}{2}} - 1 \\right)} \\\\[15pt]\n\\omega = -\\lambda \\left( e^{\\mu_J + \\frac{\\delta^2}{2}} - 1 \\right) \\\\[20pt]\n\n\\text{Final Expression} \\\\[20pt]\n\\phi_{B96}(\\nu - (\\alpha + 1)i, T) = \\phi_{H93}(\\nu - (\\alpha + 1)i, T) \\cdot \\phi_{M76J}(\\nu - (\\alpha + 1)i, T) \\\\[15pt]\nC_0 = \\frac{e^{-\\alpha k}}{\\pi} \\int_0^\\infty e^{-i \\nu k} \\frac{e^{-r T} \\phi_{H93}(\\nu - (\\alpha + 1)i, T) \\phi_{M76J}(\\nu - (\\alpha + 1)i, T)}{\\alpha^2 + \\alpha - \\nu^2 + i (2\\alpha + 1) \\nu} \\, d\\nu\n$"
          },
          "metadata": {}
        }
      ]
    },
    {
      "cell_type": "code",
      "source": [],
      "metadata": {
        "id": "E2z1a7wnTHpF"
      },
      "execution_count": null,
      "outputs": []
    },
    {
      "cell_type": "code",
      "source": [],
      "metadata": {
        "id": "qPRpVq-gWWYP"
      },
      "execution_count": null,
      "outputs": []
    },
    {
      "cell_type": "code",
      "source": [],
      "metadata": {
        "id": "GLh6LMUWWZNm"
      },
      "execution_count": null,
      "outputs": []
    },
    {
      "cell_type": "code",
      "source": [
        "class SemiCompleteOptionPricingLibrary:\n",
        "    _r: float\n",
        "    _S0: float\n",
        "    _K: float\n",
        "    _T: float\n",
        "\n",
        "    def __new__(self, r: float, S0: float, K: float, T: float) -> Self:\n",
        "        self = super().__new__(self)\n",
        "        self._r = r\n",
        "        self._S0 = S0\n",
        "        self._K = K\n",
        "        self._T = T\n",
        "        return self\n",
        "\n",
        "    def heston_characteristic_function(self, u: Number, kappa_v: float,\n",
        "                                         theta_v: float, sigma_v: float, rho: float, v0: float) -> complex:\n",
        "        c1: float = kappa_v * theta_v\n",
        "        c2: complex = -np.sqrt((rho * sigma_v * u * 1j - kappa_v) ** 2 - sigma_v**2 * (-u * 1j - u**2))\n",
        "        c3: complex = (kappa_v - rho * sigma_v * u * 1j + c2) / (kappa_v - rho * sigma_v * u * 1j - c2)\n",
        "        H1: complex = self._r * u * 1j * self._T + (c1 / sigma_v**2) * (\n",
        "            (kappa_v - rho * sigma_v * u * 1j + c2) * self._T\n",
        "            - 2 * np.log((1 - c3 * np.exp(c2 * self._T)) / (1 - c3))\n",
        "        )\n",
        "        H2: complex = ((kappa_v - rho * sigma_v * u * 1j + c2) / sigma_v**2) * (\n",
        "            (1 - np.exp(c2 * self._T)) / (1 - c3 * np.exp(c2 * self._T))\n",
        "        )\n",
        "        return np.exp(H1 + H2 * v0)\n",
        "\n",
        "    def heston_integration_function(self, u: float,\n",
        "                                     kappa_v: float, theta_v: float, sigma_v: float, rho: float, v0: float) -> float:\n",
        "        char_func: complex = self.heston_characteristic_function(u - 0.5 * 1j, kappa_v, theta_v, sigma_v, rho, v0)\n",
        "        integrand: complex = np.exp(1j * u * np.log(self._S0 / self._K)) * char_func\n",
        "        return (1 / (u**2 + 0.25)) * integrand.real\n",
        "\n",
        "    def heston_call_value(self, kappa_v: float,\n",
        "                          theta_v: float, sigma_v: float, rho: float, v0: float) -> float:\n",
        "        int_value: float = quad(\n",
        "            lambda u: self.heston_integration_function(u, kappa_v, theta_v, sigma_v, rho, v0),\n",
        "            0,\n",
        "            np.inf,\n",
        "            limit=250,\n",
        "        )[0]\n",
        "        call_value: float = max(0, self._S0 - np.exp(-self._r * self._T) * np.sqrt(self._S0 * self._K) / np.pi * int_value)\n",
        "        return call_value\n",
        "\n",
        "    def merton_characteristic_function_jump(self, u: Number, lamb: float,\n",
        "                                       mu: float, delta: float) -> complex:\n",
        "        omega = -lamb * (np.exp(mu + 0.5 * delta**2) - 1)\n",
        "        return np.exp((1j * u * omega + lamb * (np.exp(1j * u * mu - u**2 * delta**2 * 0.5) - 1)) * self._T)\n",
        "\n",
        "    def merton_integration_function(self, u: float,\n",
        "                                     sigma: float, lamb: float, mu: float, delta: float) -> float:\n",
        "        char_func: complex = self.merton_characteristic_function(u - 0.5 * 1j, sigma, lamb, mu, delta)\n",
        "        integrand: complex = np.exp(1j * u * np.log(self._S0 / self._K)) * char_func\n",
        "        return (1 / (u**2 + 0.25)) * integrand.real\n",
        "\n",
        "    def merton_call_value(self, sigma: float,\n",
        "                          lamb: float, mu: float, delta: float) -> float:\n",
        "        int_value: float = quad(\n",
        "            lambda u: self.merton_integration_function(u, sigma, lamb, mu, delta),\n",
        "            0,\n",
        "            50,\n",
        "            limit=250,\n",
        "        )[0]\n",
        "        call_value: float = max(0, self._S0 - np.exp(-self._r * self._T) * np.sqrt(self._S0 * self._K) / np.pi * int_value)\n",
        "        return call_value\n",
        "\n",
        "    def calibration_error_function(self, p0: NDArray[np.float_], options: pd.DataFrame,\n",
        "                                   call_value_func: Callable[..., float]) -> float:\n",
        "        squared_errors = []\n",
        "        for _, row in options.iterrows():\n",
        "            model_price: float = call_value_func(\n",
        "                sigma=p0[0],\n",
        "                lamb=p0[1],\n",
        "                mu=p0[2],\n",
        "                delta=p0[3]\n",
        "            ) if call_value_func.__name__ == 'merton_call_value' else call_value_func(\n",
        "                kappa_v=p0[0],\n",
        "                theta_v=p0[1],\n",
        "                sigma_v=p0[2],\n",
        "                rho=p0[3],\n",
        "                v0=p0[4]\n",
        "            )\n",
        "            squared_errors.append((model_price - row[\"Call\"]) ** 2)\n",
        "        rmse: float = np.sqrt(np.mean(squared_errors))\n",
        "        return rmse\n",
        "\n",
        "    def calibrate_merton(self, options: pd.DataFrame) -> NDArray[np.float_]:\n",
        "        def error_function(p: NDArray[np.float_]) -> float:\n",
        "            return self.calibration_error_function(p, options, self.merton_call_value)\n",
        "\n",
        "        ranges = (\n",
        "            slice(0.075, 0.201, 0.025),\n",
        "            slice(0.10, 0.401, 0.1),\n",
        "            slice(-0.5, 0.01, 0.1),\n",
        "            slice(0.10, 0.301, 0.1),\n",
        "        )\n",
        "        p0: NDArray[np.float_] = brute(error_function, ranges, finish=None)\n",
        "        opt: NDArray[np.float_] = fmin(\n",
        "            error_function, p0, xtol=0.0001, ftol=0.0001, maxiter=550, maxfun=1050, disp=True\n",
        "        )\n",
        "        return opt\n",
        "\n",
        "    def bates_characteristic_function(self, u: Number,\n",
        "                                      kappa_v: float, theta_v: float, sigma_v: float,\n",
        "                                      rho: float, v0: float, lamb: float, mu: float,\n",
        "                                      delta: float) -> complex:\n",
        "        heston_cf = self.heston_characteristic_function(u, kappa_v, theta_v, sigma_v, rho, v0)\n",
        "        merton_jump_cf = self.merton_characteristic_function_jump(u, lamb, mu, delta)\n",
        "        return heston_cf * merton_jump_cf\n",
        "\n",
        "    def bates_integration_function(self, u: float,\n",
        "                                   kappa_v: float, theta_v: float, sigma_v: float,\n",
        "                                   rho: float, v0: float, lamb: float, mu: float,\n",
        "                                   delta: float) -> float:\n",
        "        char_func_value = self.bates_characteristic_function(\n",
        "            u - 0.5j, kappa_v, theta_v, sigma_v, rho, v0, lamb, mu, delta\n",
        "        )\n",
        "        integrand = np.exp(1j * u * np.log(self._S0 / self._K)) * char_func_value\n",
        "        return (1 / (u**2 + 0.25)) * integrand.real\n",
        "\n",
        "    def bates_call_value(self, kappa_v: float, theta_v: float, sigma_v: float,\n",
        "                          rho: float, v0: float, lamb: float, mu: float,\n",
        "                          delta: float) -> float:\n",
        "        int_value = quad(\n",
        "            lambda u: self.bates_integration_function(u, kappa_v, theta_v, sigma_v, rho, v0, lamb, mu, delta),\n",
        "            0,\n",
        "            np.inf,\n",
        "            limit=250,\n",
        "        )[0]\n",
        "        call_value = max(0, self._S0 - np.exp(-self._r * self._T) * np.sqrt(self._S0 * self._K) / np.pi * int_value)\n",
        "        return call_value\n",
        "\n",
        "    def bates_call_fft(self, kappa_v: float, theta_v: float, sigma_v: float,\n",
        "                       rho: float, v0: float, lamb: float, mu: float,\n",
        "                       delta: float) -> float:\n",
        "        k = np.log(self._K / self._S0)\n",
        "        g = 1\n",
        "        N = int(g * 4096)\n",
        "        eps = (g * 150) ** -1\n",
        "        eta = 2 * np.pi / (N * eps)\n",
        "        b_val = 0.5 * N * eps - k\n",
        "        u = np.arange(1, N + 1, 1, dtype=float)\n",
        "        vo = eta * (u - 1)\n",
        "\n",
        "        if self._S0 >= 0.95 * self._K:\n",
        "            alpha = 1.5\n",
        "            v_arr = vo - (alpha + 1) * 1j\n",
        "            modcharFunc = np.exp(-self._r * self._T) * (\n",
        "                self.bates_characteristic_function(v_arr, kappa_v, theta_v, sigma_v, rho, v0, lamb, mu, delta)\n",
        "                / (alpha**2 + alpha - vo**2 + 1j * (2 * alpha + 1) * vo)\n",
        "            )\n",
        "        else:\n",
        "            alpha = 1.1\n",
        "            v_arr1 = (vo - 1j * alpha) - 1j\n",
        "            modcharFunc1 = np.exp(-self._r * self._T) * (\n",
        "                1 / (1 + 1j * (vo - 1j * alpha))\n",
        "                - np.exp(self._r * self._T) / (1j * (vo - 1j * alpha))\n",
        "                - self.bates_characteristic_function(v_arr1, kappa_v, theta_v, sigma_v, rho, v0, lamb, mu, delta)\n",
        "                / ((vo - 1j * alpha) ** 2 - 1j * (vo - 1j * alpha))\n",
        "            )\n",
        "            v_arr2 = (vo + 1j * alpha) - 1j\n",
        "            modcharFunc2 = np.exp(-self._r * self._T) * (\n",
        "                1 / (1 + 1j * (vo + 1j * alpha))\n",
        "                - np.exp(self._r * self._T) / (1j * (vo + 1j * alpha))\n",
        "                - self.bates_characteristic_function(v_arr2, kappa_v, theta_v, sigma_v, rho, v0, lamb, mu, delta)\n",
        "                / ((vo + 1j * alpha) ** 2 - 1j * (vo + 1j * alpha))\n",
        "            )\n",
        "\n",
        "        delt = np.zeros(N, dtype=np.float64)\n",
        "        delt[0] = 1.0\n",
        "        j = np.arange(1, N + 1, 1, dtype=np.int64)\n",
        "        SimpsonW = (3 + (-1) ** j - delt) / 3\n",
        "\n",
        "        if self._S0 >= 0.95 * self._K:\n",
        "            FFTFunc = np.exp(1j * b_val * vo) * modcharFunc * eta * SimpsonW\n",
        "            payoff = np.fft.fft(FFTFunc).real\n",
        "            CallValueM = np.exp(-alpha * k) / np.pi * payoff\n",
        "        else:\n",
        "            FFTFunc = np.exp(1j * b_val * vo) * (modcharFunc1 - modcharFunc2) * 0.5 * eta * SimpsonW\n",
        "            payoff = np.fft.fft(FFTFunc).real\n",
        "            CallValueM = payoff / (np.sinh(alpha * k) * np.pi)\n",
        "\n",
        "        pos = int((k + b_val) / eps)\n",
        "        CallValue = CallValueM[pos] * self._S0\n",
        "        return CallValue"
      ],
      "metadata": {
        "id": "xvXnt20FXpic"
      },
      "execution_count": null,
      "outputs": []
    },
    {
      "cell_type": "code",
      "source": [
        "# General Parameters\n",
        "S0 = 100         # Initial stock price\n",
        "K = 100          # Strike price of the option\n",
        "T = 1            # Time to expiration in years\n",
        "r = 0.05         # Risk-free interest rate\n",
        "\n",
        "# Heston '93 Parameters\n",
        "kappa_v = 1.5    # Speed of mean reversion for volatility\n",
        "theta_v = 0.02   # Long-term average volatility\n",
        "sigma_v = 0.15   # Volatility of volatility (how much volatility fluctuates)\n",
        "rho = 0.1        # Correlation between stock price and volatility\n",
        "v0 = 0.01        # Initial variance (starting volatility squared)\n",
        "\n",
        "# Merton '76 (Jump) Parameters\n",
        "lamb = 0.25      # Jump intensity (average number of jumps per year)\n",
        "mu = -0.2        # Average jump size (log-return of jumps)\n",
        "delta = 0.1      # Standard deviation of jump size\n",
        "sigma = np.sqrt(v0)  # For Bates, sigma from Merton is not used directly; set as sqrt of initial variance\n",
        "\n",
        "# Create an instance of the OptionPricingLibrary (with Bates methods added)\n",
        "pricing_lib = SemiCompleteOptionPricingLibrary(r, S0, K, T)\n",
        "\n",
        "# Calculate the Bates call price via Lewis (2001) integration\n",
        "bates_price_integration = pricing_lib.bates_call_value(\n",
        "    kappa_v, theta_v, sigma_v, rho, v0, lamb, mu, delta\n",
        ")\n",
        "print(\"Bates Call Price (Integration):\", bates_price_integration)\n",
        "\n",
        "# Calculate the Bates call price via FFT\n",
        "bates_price_fft = pricing_lib.bates_call_fft(\n",
        "    kappa_v, theta_v, sigma_v, rho, v0, lamb, mu, delta\n",
        ")\n",
        "print(\"Bates Call Price (FFT):\", bates_price_fft)\n"
      ],
      "metadata": {
        "colab": {
          "base_uri": "https://localhost:8080/"
        },
        "id": "FFYCR6sBXu_h",
        "outputId": "9336eae3-9530-43d1-da5e-044a96b412e8"
      },
      "execution_count": null,
      "outputs": [
        {
          "output_type": "stream",
          "name": "stdout",
          "text": [
            "Bates Call Price (Integration): 8.904718863598816\n",
            "Bates Call Price (FFT): 8.904718821081085\n"
          ]
        }
      ]
    },
    {
      "cell_type": "code",
      "source": [
        "heston_price_integration = pricing_lib.heston_call_value(kappa_v, theta_v, sigma_v, rho, v0)\n",
        "print(\"Heston Call Price (Integration):\", heston_price_integration)"
      ],
      "metadata": {
        "colab": {
          "base_uri": "https://localhost:8080/"
        },
        "id": "xmUraiPBXxlM",
        "outputId": "310e6362-2a84-4c24-eb58-d8e3f9e55998"
      },
      "execution_count": null,
      "outputs": [
        {
          "output_type": "stream",
          "name": "stdout",
          "text": [
            "Heston Call Price (Integration): 7.467062627562925\n"
          ]
        }
      ]
    },
    {
      "cell_type": "code",
      "source": [],
      "metadata": {
        "id": "RJvPE8LI6kh6"
      },
      "execution_count": null,
      "outputs": []
    }
  ]
}